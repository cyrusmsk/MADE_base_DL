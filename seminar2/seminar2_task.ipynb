{
 "cells": [
  {
   "cell_type": "code",
   "execution_count": 7,
   "metadata": {},
   "outputs": [],
   "source": [
    "import numpy as np \n",
    "import _pickle as cPickle\n",
    "import gzip\n",
    "import os\n",
    "from sklearn.utils import shuffle\n",
    "from tqdm import tqdm"
   ]
  },
  {
   "cell_type": "code",
   "execution_count": 8,
   "metadata": {},
   "outputs": [],
   "source": [
    "# utility functions\n",
    "\n",
    "def one_hot_encoded(y, num_class):\n",
    "    n = y.shape[0]\n",
    "    onehot = np.zeros((n, num_class), dtype=\"int32\")\n",
    "    for i in range(n):\n",
    "        idx = y[i]\n",
    "        onehot[i][idx] = 1\n",
    "    return onehot\n",
    "\n",
    "\n",
    "def check_accuracy(y_true, y_pred):\n",
    "    return np.mean(y_pred == y_true)  # both are not one hot encoded\n",
    "\n",
    "\n",
    "def softmax(x):\n",
    "    exp_x = np.exp(x - np.max(x, axis=1, keepdims=True)) # substract np.max for increase stability\n",
    "    return exp_x / np.sum(exp_x, axis=1, keepdims=True)\n",
    "    \n",
    "# l2 regularization\n",
    "def l2_reg(layers, lam=0.001):\n",
    "    reg_loss = 0.0\n",
    "    for layer in layers:\n",
    "        if hasattr(layer, 'W'):\n",
    "            reg_loss += 0.5 * lam * np.sum(layer.W * layer.W)\n",
    "    return reg_loss\n",
    "\n",
    "\n",
    "# l2 regularization grad\n",
    "def delta_l2_reg(layers, grads, lam=0.001):\n",
    "    for layer, grad in zip(layers, reversed(grads)):\n",
    "        if hasattr(layer, 'W'):\n",
    "            grad[0] += lam * layer.W\n",
    "    return grads\n"
   ]
  },
  {
   "cell_type": "code",
   "execution_count": 9,
   "metadata": {},
   "outputs": [],
   "source": [
    "def eval_numerical_gradient(f, x, verbose=False, h=0.00001):\n",
    "    \"\"\"Evaluates gradient df/dx via finite differences:\n",
    "    df/dx ~ (f(x+h) - f(x-h)) / 2h\n",
    "    Adopted from https://github.com/ddtm/dl-course/\n",
    "    \"\"\"\n",
    "    fx = f(x) # evaluate function value at original point\n",
    "    grad = np.zeros_like(x)\n",
    "    # iterate over all indexes in x\n",
    "    it = np.nditer(x, flags=['multi_index'], op_flags=['readwrite'])\n",
    "    while not it.finished:\n",
    "\n",
    "        # evaluate function at x+h\n",
    "        ix = it.multi_index\n",
    "        oldval = x[ix]\n",
    "        x[ix] = oldval + h # increment by h\n",
    "        fxph = f(x) # evalute f(x + h)\n",
    "        x[ix] = oldval - h\n",
    "        fxmh = f(x) # evaluate f(x - h)\n",
    "        x[ix] = oldval # restore\n",
    "\n",
    "        # compute the partial derivative with centered formula\n",
    "        grad[ix] = (fxph - fxmh) / (2 * h) # the slope\n",
    "        if verbose:\n",
    "            print (ix, grad[ix])\n",
    "        it.iternext() # step to next dimension\n",
    "\n",
    "    return grad"
   ]
  },
  {
   "cell_type": "code",
   "execution_count": 10,
   "metadata": {},
   "outputs": [],
   "source": [
    "class ReLU():\n",
    "    def __init__(self):\n",
    "        self.params = []\n",
    "        self.gradInput = None\n",
    "\n",
    "    def forward(self, X, mode):\n",
    "        self.X = X\n",
    "        return np.maximum(X, 0)\n",
    "    \n",
    "    def backward(self, dout, mode):\n",
    "        self.gradInput = dout.copy()\n",
    "        self.gradInput[self.X <= 0] = 0\n",
    "        return self.gradInput, []"
   ]
  },
  {
   "cell_type": "code",
   "execution_count": 11,
   "metadata": {},
   "outputs": [
    {
     "name": "stdout",
     "output_type": "stream",
     "text": [
      "[[0. 0. 0. 0. 0. 0. 0. 0. 0. 0. 0. 0.]\n",
      " [0. 0. 0. 0. 0. 0. 0. 0. 0. 0. 0. 0.]\n",
      " [0. 0. 0. 0. 0. 0. 0. 0. 0. 0. 0. 0.]\n",
      " [0. 0. 0. 0. 0. 0. 0. 0. 0. 0. 0. 0.]\n",
      " [0. 0. 0. 0. 0. 0. 0. 0. 0. 0. 0. 0.]\n",
      " [1. 1. 1. 1. 1. 1. 1. 1. 1. 1. 1. 1.]\n",
      " [1. 1. 1. 1. 1. 1. 1. 1. 1. 1. 1. 1.]\n",
      " [1. 1. 1. 1. 1. 1. 1. 1. 1. 1. 1. 1.]\n",
      " [1. 1. 1. 1. 1. 1. 1. 1. 1. 1. 1. 1.]\n",
      " [1. 1. 1. 1. 1. 1. 1. 1. 1. 1. 1. 1.]]\n"
     ]
    }
   ],
   "source": [
    "points = np.linspace(-1, 1, 10*12).reshape([10, 12])\n",
    "relu = ReLU()\n",
    "f = lambda x: relu.forward(x, mode='train').sum(axis=1).sum()\n",
    "res = f(points)\n",
    "numeric_grads = eval_numerical_gradient(f, points)\n",
    "print(numeric_grads)\n",
    "inp_grad = np.ones(shape=(10, 12))\n",
    "grads = relu.backward(inp_grad, mode='train')[0]\n",
    "assert np.allclose(grads, numeric_grads, rtol=1e-3, atol=0)"
   ]
  },
  {
   "cell_type": "code",
   "execution_count": 17,
   "metadata": {},
   "outputs": [],
   "source": [
    "class Linear():\n",
    "\n",
    "    def __init__(self, in_size, out_size):\n",
    "\n",
    "        # Xavier init\n",
    "        self.W = np.random.randn(in_size, out_size) / np.sqrt(in_size + out_size/ 2.)  # for save input dispersion\n",
    "        self.b = np.zeros((1, out_size))\n",
    "        self.params = [self.W, self.b]\n",
    "        self.gradW = None\n",
    "        self.gradB = None\n",
    "        self.gradInput = None\n",
    "\n",
    "    def forward(self, X, mode):\n",
    "        self.X = X\n",
    "        output = self.X.dot(self.W) + self.b\n",
    "        return output\n",
    "    \n",
    "    def backward(self, dout, mode):\n",
    "        self.gradW = self.X.T.dot(dout)\n",
    "        self.gradB = np.mean(dout, axis=0)\n",
    "        self.gradInput = dout.dot(self.W.T)\n",
    "        return self.gradInput, [self.gradW, self.gradB]"
   ]
  },
  {
   "cell_type": "code",
   "execution_count": 18,
   "metadata": {},
   "outputs": [
    {
     "name": "stdout",
     "output_type": "stream",
     "text": [
      "[[ 0.08970912 -0.35909765  0.55279863 -1.05735945 -0.40480274  0.32397307\n",
      "  -0.58552067  0.96558784  0.02126571  0.28449427  0.1133537   0.26291979]\n",
      " [ 0.08970912 -0.35909765  0.55279863 -1.05735945 -0.40480274  0.32397307\n",
      "  -0.58552067  0.96558784  0.02126571  0.28449427  0.1133537   0.26291979]\n",
      " [ 0.08970912 -0.35909765  0.55279863 -1.05735945 -0.40480274  0.32397307\n",
      "  -0.58552067  0.96558784  0.02126571  0.28449427  0.1133537   0.26291979]\n",
      " [ 0.08970912 -0.35909765  0.55279863 -1.05735945 -0.40480274  0.32397307\n",
      "  -0.58552067  0.96558784  0.02126571  0.28449427  0.1133537   0.26291979]\n",
      " [ 0.08970912 -0.35909765  0.55279863 -1.05735945 -0.40480274  0.32397307\n",
      "  -0.58552067  0.96558784  0.02126571  0.28449427  0.1133537   0.26291979]\n",
      " [ 0.08970912 -0.35909765  0.55279863 -1.05735945 -0.40480274  0.32397307\n",
      "  -0.58552067  0.96558784  0.02126571  0.28449427  0.1133537   0.26291979]\n",
      " [ 0.08970912 -0.35909765  0.55279863 -1.05735945 -0.40480274  0.32397307\n",
      "  -0.58552067  0.96558784  0.02126571  0.28449427  0.1133537   0.26291979]\n",
      " [ 0.08970912 -0.35909765  0.55279863 -1.05735945 -0.40480274  0.32397307\n",
      "  -0.58552067  0.96558784  0.02126571  0.28449427  0.1133537   0.26291979]\n",
      " [ 0.08970912 -0.35909765  0.55279863 -1.05735945 -0.40480274  0.32397307\n",
      "  -0.58552067  0.96558784  0.02126571  0.28449427  0.1133537   0.26291979]\n",
      " [ 0.08970912 -0.35909765  0.55279863 -1.05735945 -0.40480274  0.32397307\n",
      "  -0.58552067  0.96558784  0.02126571  0.28449427  0.1133537   0.26291979]]\n"
     ]
    }
   ],
   "source": [
    "points = np.linspace(-1, 1, 10*12).reshape([10, 12])\n",
    "linear = Linear(12, 5)\n",
    "f = lambda x: linear.forward(x, mode='train').sum(axis=1).sum()\n",
    "res = f(points)\n",
    "numeric_grads = eval_numerical_gradient(f, points)\n",
    "print(numeric_grads)\n",
    "inp_grad = np.ones(shape=(10, 5))\n",
    "grads = linear.backward(inp_grad, mode='train')[0]\n",
    "assert np.allclose(grads, numeric_grads, rtol=1e-3, atol=0)"
   ]
  },
  {
   "cell_type": "code",
   "execution_count": 32,
   "metadata": {},
   "outputs": [],
   "source": [
    "class CrossEntropyLoss(object):\n",
    "\n",
    "    def forward(self, X, y):\n",
    "        # y can only be 1 or 0\n",
    "        self.m = y.shape[0]\n",
    "        self.p = softmax(X)\n",
    "        # -log(p_true)\n",
    "        cross_entropy = -np.log(self.p[range(self.m), y])\n",
    "        loss = np.sum(cross_entropy) / self.m\n",
    "        return loss\n",
    "    \n",
    "    def backward(self, X, y):\n",
    "        dx = self.p.copy()\n",
    "        dx[range(self.m), y] -= 1\n",
    "        dx /= self.m\n",
    "        return dx  #, []"
   ]
  },
  {
   "cell_type": "markdown",
   "metadata": {},
   "source": [
    "## NN implementation"
   ]
  },
  {
   "cell_type": "code",
   "execution_count": 33,
   "metadata": {},
   "outputs": [],
   "source": [
    "class NN:\n",
    "\n",
    "    def __init__(self, loss_func=CrossEntropyLoss(), mode = 'train'):\n",
    "    \n",
    "        self.layers = []\n",
    "        self.params = []\n",
    "        self.loss_func = loss_func\n",
    "        self.grads = []\n",
    "        self.mode = mode\n",
    "\n",
    "    def add_layer(self,layer):\n",
    "        self.layers.append(layer)\n",
    "        self.params.append(layer.params)\n",
    "\n",
    "    def forward(self, X):\n",
    "        for layer in self.layers:\n",
    "            X = layer.forward(X, self.mode)\n",
    "        return X\n",
    "\n",
    "    def backward(self, dout):\n",
    "        self.clear_grad_param()\n",
    "        for layer in reversed(self.layers):\n",
    "            dout, grad = layer.backward(dout, self.mode)\n",
    "            self.grads.append(grad)\n",
    "        return self.grads\n",
    "\n",
    "    def train_step(self, X, y):\n",
    "        out = self.forward(X)\n",
    "        loss = self.loss_func.forward(out,y)\n",
    "        dout = self.loss_func.backward(out,y)\n",
    "        loss += l2_reg(self.layers)\n",
    "        grads = self.backward(dout)\n",
    "        grads = delta_l2_reg(self.layers, grads)\n",
    "        return loss, grads\n",
    "\n",
    "    def predict(self, X):\n",
    "        X = self.forward(X)\n",
    "        return np.argmax(softmax(X), axis=1)\n",
    "\n",
    "\n",
    "    def dispGradParam():\n",
    "        print(self.grads)\n",
    "    \n",
    "\n",
    "    def clear_grad_param(self):\n",
    "        self.grads = []"
   ]
  },
  {
   "cell_type": "code",
   "execution_count": 34,
   "metadata": {},
   "outputs": [],
   "source": [
    "# SGD with momentum\n",
    "def update(velocity, params, grads, learning_rate=0.001, mu=0.9):\n",
    "    for v, p, g, in zip(velocity, params, reversed(grads)):\n",
    "        for i in range(len(g)):\n",
    "            v[i] = mu * v[i] + learning_rate * g[i]\n",
    "            p[i] -= v[i]\n",
    "\n",
    "\n",
    "# get minibatches\n",
    "def minibatch(X, y, minibatch_size):\n",
    "    n = X.shape[0]\n",
    "    minibatches = []\n",
    "    X, y = shuffle(X, y)\n",
    "\n",
    "    for i in range(0, n , minibatch_size):\n",
    "        X_batch = X[i:i + minibatch_size, ...]\n",
    "        y_batch = y[i:i + minibatch_size, ...]\n",
    "\n",
    "        minibatches.append((X_batch, y_batch))\n",
    "    return minibatches\n"
   ]
  },
  {
   "cell_type": "code",
   "execution_count": 35,
   "metadata": {},
   "outputs": [],
   "source": [
    "def train(net, X_train, y_train, minibatch_size, epoch, learning_rate, mu=0.9,\n",
    "                 verbose=True, X_val=None, y_val=None, nesterov=True):\n",
    "    val_loss_epoch = []\n",
    "    minibatches = minibatch(X_train, y_train, minibatch_size)\n",
    "    minibatches_val = minibatch(X_val, y_val, minibatch_size)\n",
    "\n",
    "    c = 0 \n",
    "    for i in range(epoch):\n",
    "        loss_batch = []\n",
    "        val_loss_batch = []\n",
    "        velocity = []\n",
    "        for param_layer in net.params:\n",
    "            p = [np.zeros_like(param) for param in list(param_layer)]\n",
    "            velocity.append(p)\n",
    "\n",
    "        if verbose:\n",
    "            print(\"Epoch {0}\".format(i + 1))\n",
    "\n",
    "        # iterate over mini batches\n",
    "        for X_mini, y_mini in tqdm(minibatches):\n",
    "\n",
    "            loss, grads = net.train_step(X_mini, y_mini)\n",
    "            loss_batch.append(loss)\n",
    "            update(velocity, net.params, grads,\n",
    "                            learning_rate=learning_rate, mu=mu)\n",
    "\n",
    "        for X_mini_val, y_mini_val in tqdm(minibatches_val):\n",
    "            val_loss, _ = net.train_step(X_mini, y_mini)\n",
    "            val_loss_batch.append(val_loss)\n",
    "\n",
    "\n",
    "        # accuracy of model at end of epoch after all mini batch updates   \n",
    "\n",
    "        if verbose:\n",
    "            m_train = X_train.shape[0]\n",
    "            m_val = X_val.shape[0]\n",
    "            y_train_pred = np.array([], dtype=\"int64\")\n",
    "            y_val_pred = np.array([], dtype=\"int64\")\n",
    "\n",
    "            for i in range(0, m_train, minibatch_size):\n",
    "                X_tr = X_train[i:i + minibatch_size, : ]\n",
    "                y_tr = y_train[i:i + minibatch_size, ]\n",
    "                y_train_pred = np.append(y_train_pred, net.predict(X_tr))\n",
    "\n",
    "            for i in range(0, m_val, minibatch_size):\n",
    "                X_va = X_val[i:i + minibatch_size, : ]\n",
    "                y_va = y_val[i:i + minibatch_size, ]\n",
    "                y_val_pred = np.append(y_val_pred, net.predict(X_va))\n",
    "\n",
    "            train_acc = check_accuracy(y_train, y_train_pred)\n",
    "            val_acc = check_accuracy(y_val, y_val_pred)\n",
    "\n",
    "            mean_train_loss = sum(loss_batch) / float(len(loss_batch))\n",
    "            mean_val_loss = sum(val_loss_batch) / float(len(val_loss_batch))\n",
    "\n",
    "\n",
    "            # early stopping with patience = 5 on val loss\n",
    "\n",
    "            if len(val_loss_epoch) == 0:\n",
    "                val_loss_epoch.append(mean_val_loss)\n",
    "            else:\n",
    "                for j in val_loss_epoch[-5:]:\n",
    "                    if mean_val_loss > j:\n",
    "                        c += 1\n",
    "                    else:\n",
    "                        c = 0\n",
    "                if c > 5:\n",
    "                    print('Early stopping')\n",
    "                    return net\n",
    "                else:\n",
    "                    c = 0\n",
    "                    val_loss_epoch.append(mean_val_loss)    \n",
    "\n",
    "\n",
    "            print(\"Loss = {0} | Training Accuracy = {1} | Val Loss = {2} | Val Accuracy = {3}\".format(\n",
    "                mean_train_loss, train_acc, mean_val_loss, val_acc))\n",
    "    return net\n"
   ]
  },
  {
   "cell_type": "code",
   "execution_count": 36,
   "metadata": {},
   "outputs": [
    {
     "name": "stderr",
     "output_type": "stream",
     "text": [
      "100%|████████████████████████████████████████████| 1/1 [00:00<00:00, 47.61it/s]\n",
      "100%|███████████████████████████████████████████| 1/1 [00:00<00:00, 499.98it/s]\n",
      "100%|███████████████████████████████████████████| 1/1 [00:00<00:00, 333.30it/s]\n",
      "100%|███████████████████████████████████████████| 1/1 [00:00<00:00, 124.99it/s]\n",
      "100%|███████████████████████████████████████████| 1/1 [00:00<00:00, 222.18it/s]\n",
      "100%|████████████████████████████████████████████| 1/1 [00:00<00:00, 99.99it/s]\n",
      "100%|███████████████████████████████████████████| 1/1 [00:00<00:00, 666.61it/s]\n",
      "100%|███████████████████████████████████████████| 1/1 [00:00<00:00, 105.25it/s]\n",
      "100%|████████████████████████████████████████████| 1/1 [00:00<00:00, 90.90it/s]\n",
      "100%|██████████████████████████████████████████| 1/1 [00:00<00:00, 1000.07it/s]\n",
      "100%|███████████████████████████████████████████| 1/1 [00:00<00:00, 999.83it/s]\n",
      "100%|███████████████████████████████████████████| 1/1 [00:00<00:00, 499.98it/s]\n",
      "100%|███████████████████████████████████████████| 1/1 [00:00<00:00, 999.83it/s]\n",
      "100%|███████████████████████████████████████████| 1/1 [00:00<00:00, 999.83it/s]\n",
      "100%|██████████████████████████████████████████| 1/1 [00:00<00:00, 1999.19it/s]\n",
      "100%|███████████████████████████████████████████| 1/1 [00:00<00:00, 999.83it/s]\n",
      "100%|███████████████████████████████████████████| 1/1 [00:00<00:00, 999.83it/s]\n",
      "100%|██████████████████████████████████████████| 1/1 [00:00<00:00, 1999.19it/s]\n",
      "100%|██████████████████████████████████████████| 1/1 [00:00<00:00, 1000.07it/s]\n",
      "100%|███████████████████████████████████████████| 1/1 [00:00<00:00, 999.83it/s]\n",
      "100%|███████████████████████████████████████████| 1/1 [00:00<00:00, 999.83it/s]\n",
      "100%|███████████████████████████████████████████| 1/1 [00:00<00:00, 999.83it/s]\n",
      "100%|███████████████████████████████████████████| 1/1 [00:00<00:00, 999.83it/s]\n",
      "100%|███████████████████████████████████████████| 1/1 [00:00<00:00, 999.83it/s]\n",
      "100%|███████████████████████████████████████████| 1/1 [00:00<00:00, 999.83it/s]\n",
      "100%|███████████████████████████████████████████| 1/1 [00:00<00:00, 999.83it/s]\n",
      "100%|██████████████████████████████████████████| 1/1 [00:00<00:00, 2000.14it/s]\n",
      "100%|███████████████████████████████████████████| 1/1 [00:00<00:00, 999.83it/s]\n",
      "100%|██████████████████████████████████████████| 1/1 [00:00<00:00, 2000.14it/s]\n",
      "100%|███████████████████████████████████████████| 1/1 [00:00<00:00, 999.83it/s]\n",
      "  0%|                                                    | 0/1 [00:00<?, ?it/s]"
     ]
    },
    {
     "name": "stdout",
     "output_type": "stream",
     "text": [
      "(4, 4)\n",
      "(4, 4)\n",
      "Epoch 1\n",
      "Loss = 0.6805414653455457 | Training Accuracy = 0.5 | Val Loss = 0.6780848822680364 | Val Accuracy = 0.5\n",
      "Epoch 2\n",
      "Loss = 0.6780848822680364 | Training Accuracy = 0.5 | Val Loss = 0.6760287504806334 | Val Accuracy = 0.5\n",
      "Epoch 3\n",
      "Loss = 0.6760287504806334 | Training Accuracy = 0.5 | Val Loss = 0.6740361673233132 | Val Accuracy = 0.5\n",
      "Epoch 4\n",
      "Loss = 0.6740361673233132 | Training Accuracy = 0.5 | Val Loss = 0.6720671941695777 | Val Accuracy = 0.5\n",
      "Epoch 5\n",
      "Loss = 0.6720671941695777 | Training Accuracy = 0.5 | Val Loss = 0.6701126196878172 | Val Accuracy = 0.5\n",
      "Epoch 6\n",
      "Loss = 0.6701126196878172 | Training Accuracy = 0.5 | Val Loss = 0.6681701109053776 | Val Accuracy = 0.5\n",
      "Epoch 7\n",
      "Loss = 0.6681701109053776 | Training Accuracy = 0.5 | Val Loss = 0.6662315837263987 | Val Accuracy = 0.5\n",
      "Epoch 8\n",
      "Loss = 0.6662315837263987 | Training Accuracy = 0.5 | Val Loss = 0.6643023123305332 | Val Accuracy = 0.5\n",
      "Epoch 9\n",
      "Loss = 0.6643023123305332 | Training Accuracy = 0.5 | Val Loss = 0.6623804037913597 | Val Accuracy = 0.5\n",
      "Epoch 10\n",
      "Loss = 0.6623804037913597 | Training Accuracy = 0.5 | Val Loss = 0.6604550894462365 | Val Accuracy = 0.5\n",
      "Epoch 11\n",
      "Loss = 0.6604550894462365 | Training Accuracy = 0.5 | Val Loss = 0.6585332540914705 | Val Accuracy = 0.5\n",
      "Epoch 12\n",
      "Loss = 0.6585332540914705 | Training Accuracy = 0.5 | Val Loss = 0.6566136767650822 | Val Accuracy = 0.5\n",
      "Epoch 13\n",
      "Loss = 0.6566136767650822 | Training Accuracy = 0.5 | Val Loss = 0.6546954848946651 | Val Accuracy = 0.5\n",
      "Epoch 14\n",
      "Loss = 0.6546954848946651 | Training Accuracy = 0.5 | Val Loss = 0.6527779373702781 | Val Accuracy = 0.5\n",
      "Epoch 15\n",
      "Loss = 0.6527779373702781 | Training Accuracy = 0.5 | Val Loss = 0.650860373172665 | Val Accuracy = 0.5\n",
      "Epoch 16\n"
     ]
    },
    {
     "name": "stderr",
     "output_type": "stream",
     "text": [
      "100%|████████████████████████████████████████████| 1/1 [00:00<00:00, 42.55it/s]\n",
      "100%|███████████████████████████████████████████| 1/1 [00:00<00:00, 999.60it/s]\n",
      "100%|███████████████████████████████████████████| 1/1 [00:00<00:00, 999.83it/s]\n",
      "100%|███████████████████████████████████████████| 1/1 [00:00<00:00, 999.83it/s]\n",
      "100%|███████████████████████████████████████████| 1/1 [00:00<00:00, 142.84it/s]\n",
      "100%|███████████████████████████████████████████| 1/1 [00:00<00:00, 999.83it/s]\n",
      "100%|███████████████████████████████████████████| 1/1 [00:00<00:00, 399.91it/s]\n",
      "100%|███████████████████████████████████████████| 1/1 [00:00<00:00, 499.92it/s]\n",
      "100%|███████████████████████████████████████████| 1/1 [00:00<00:00, 181.79it/s]\n",
      "100%|███████████████████████████████████████████| 1/1 [00:00<00:00, 399.95it/s]\n",
      "100%|███████████████████████████████████████████| 1/1 [00:00<00:00, 499.98it/s]\n",
      "100%|███████████████████████████████████████████| 1/1 [00:00<00:00, 399.95it/s]\n",
      "100%|███████████████████████████████████████████| 1/1 [00:00<00:00, 333.30it/s]\n",
      "100%|███████████████████████████████████████████| 1/1 [00:00<00:00, 666.61it/s]\n",
      "100%|███████████████████████████████████████████| 1/1 [00:00<00:00, 399.95it/s]\n",
      "100%|████████████████████████████████████████████| 1/1 [00:00<00:00, 86.94it/s]\n",
      "100%|███████████████████████████████████████████| 1/1 [00:00<00:00, 249.97it/s]\n",
      "100%|███████████████████████████████████████████| 1/1 [00:00<00:00, 333.33it/s]\n",
      "100%|███████████████████████████████████████████| 1/1 [00:00<00:00, 285.66it/s]\n",
      "100%|███████████████████████████████████████████| 1/1 [00:00<00:00, 399.95it/s]\n",
      "100%|███████████████████████████████████████████| 1/1 [00:00<00:00, 399.91it/s]\n",
      "100%|███████████████████████████████████████████| 1/1 [00:00<00:00, 181.80it/s]\n",
      "100%|███████████████████████████████████████████| 1/1 [00:00<00:00, 499.98it/s]\n",
      "100%|███████████████████████████████████████████| 1/1 [00:00<00:00, 222.20it/s]\n",
      "100%|███████████████████████████████████████████| 1/1 [00:00<00:00, 199.97it/s]\n",
      "  0%|                                                    | 0/1 [00:00<?, ?it/s]"
     ]
    },
    {
     "name": "stdout",
     "output_type": "stream",
     "text": [
      "Loss = 0.650860373172665 | Training Accuracy = 0.5 | Val Loss = 0.6489421871140564 | Val Accuracy = 0.5\n",
      "Epoch 17\n",
      "Loss = 0.6489421871140564 | Training Accuracy = 0.5 | Val Loss = 0.6470228141226922 | Val Accuracy = 0.5\n",
      "Epoch 18\n",
      "Loss = 0.6470228141226922 | Training Accuracy = 0.5 | Val Loss = 0.6451017182817503 | Val Accuracy = 0.5\n",
      "Epoch 19\n",
      "Loss = 0.6451017182817503 | Training Accuracy = 0.5 | Val Loss = 0.6431783850544539 | Val Accuracy = 0.5\n",
      "Epoch 20\n",
      "Loss = 0.6431783850544539 | Training Accuracy = 0.5 | Val Loss = 0.6412523157287323 | Val Accuracy = 0.5\n",
      "Epoch 21\n",
      "Loss = 0.6412523157287323 | Training Accuracy = 0.5 | Val Loss = 0.6393230234208402 | Val Accuracy = 0.5\n",
      "Epoch 22\n",
      "Loss = 0.6393230234208402 | Training Accuracy = 0.5 | Val Loss = 0.6373900301764942 | Val Accuracy = 0.5\n",
      "Epoch 23\n",
      "Loss = 0.6373900301764942 | Training Accuracy = 0.5 | Val Loss = 0.6354561743364382 | Val Accuracy = 0.5\n",
      "Epoch 24\n",
      "Loss = 0.6354561743364382 | Training Accuracy = 0.5 | Val Loss = 0.6335358326389839 | Val Accuracy = 0.5\n",
      "Epoch 25\n",
      "Loss = 0.6335358326389839 | Training Accuracy = 0.5 | Val Loss = 0.6315759176546315 | Val Accuracy = 0.5\n",
      "Epoch 26\n",
      "Loss = 0.6315759176546315 | Training Accuracy = 0.5 | Val Loss = 0.6296218992338629 | Val Accuracy = 0.5\n",
      "Epoch 27\n",
      "Loss = 0.6296218992338629 | Training Accuracy = 0.5 | Val Loss = 0.627663609972201 | Val Accuracy = 0.5\n",
      "Epoch 28\n"
     ]
    },
    {
     "name": "stderr",
     "output_type": "stream",
     "text": [
      "100%|███████████████████████████████████████████| 1/1 [00:00<00:00, 199.98it/s]\n",
      "100%|███████████████████████████████████████████| 1/1 [00:00<00:00, 222.20it/s]\n",
      "100%|███████████████████████████████████████████| 1/1 [00:00<00:00, 181.79it/s]\n",
      "100%|███████████████████████████████████████████| 1/1 [00:00<00:00, 499.98it/s]\n",
      "100%|███████████████████████████████████████████| 1/1 [00:00<00:00, 399.91it/s]\n",
      "100%|███████████████████████████████████████████| 1/1 [00:00<00:00, 333.30it/s]\n",
      "100%|███████████████████████████████████████████| 1/1 [00:00<00:00, 399.91it/s]\n",
      "100%|███████████████████████████████████████████| 1/1 [00:00<00:00, 499.98it/s]\n",
      "100%|███████████████████████████████████████████| 1/1 [00:00<00:00, 399.95it/s]\n",
      "100%|███████████████████████████████████████████| 1/1 [00:00<00:00, 499.92it/s]\n",
      "100%|███████████████████████████████████████████| 1/1 [00:00<00:00, 399.99it/s]\n",
      "100%|███████████████████████████████████████████| 1/1 [00:00<00:00, 666.50it/s]\n",
      "100%|███████████████████████████████████████████| 1/1 [00:00<00:00, 499.98it/s]\n",
      "100%|███████████████████████████████████████████| 1/1 [00:00<00:00, 499.86it/s]\n",
      "100%|███████████████████████████████████████████| 1/1 [00:00<00:00, 499.98it/s]\n",
      "100%|███████████████████████████████████████████| 1/1 [00:00<00:00, 499.92it/s]\n",
      "100%|███████████████████████████████████████████| 1/1 [00:00<00:00, 499.92it/s]\n",
      "100%|███████████████████████████████████████████| 1/1 [00:00<00:00, 499.92it/s]\n",
      "100%|███████████████████████████████████████████| 1/1 [00:00<00:00, 399.91it/s]\n",
      "100%|███████████████████████████████████████████| 1/1 [00:00<00:00, 399.95it/s]\n",
      "100%|███████████████████████████████████████████| 1/1 [00:00<00:00, 499.98it/s]\n",
      "100%|████████████████████████████████████████████| 1/1 [00:00<00:00, 38.46it/s]\n",
      "100%|███████████████████████████████████████████| 1/1 [00:00<00:00, 333.28it/s]\n",
      "100%|███████████████████████████████████████████| 1/1 [00:00<00:00, 666.61it/s]\n",
      "100%|███████████████████████████████████████████| 1/1 [00:00<00:00, 333.28it/s]\n",
      "100%|███████████████████████████████████████████| 1/1 [00:00<00:00, 499.98it/s]\n",
      "100%|███████████████████████████████████████████| 1/1 [00:00<00:00, 499.92it/s]\n",
      "100%|███████████████████████████████████████████| 1/1 [00:00<00:00, 399.95it/s]\n",
      "100%|███████████████████████████████████████████| 1/1 [00:00<00:00, 399.95it/s]\n",
      "100%|███████████████████████████████████████████| 1/1 [00:00<00:00, 499.92it/s]\n",
      "100%|███████████████████████████████████████████| 1/1 [00:00<00:00, 333.30it/s]\n",
      "100%|███████████████████████████████████████████| 1/1 [00:00<00:00, 499.92it/s]\n",
      "  0%|                                                    | 0/1 [00:00<?, ?it/s]"
     ]
    },
    {
     "name": "stdout",
     "output_type": "stream",
     "text": [
      "Loss = 0.627663609972201 | Training Accuracy = 0.5 | Val Loss = 0.6256993691734865 | Val Accuracy = 0.5\n",
      "Epoch 29\n",
      "Loss = 0.6256993691734865 | Training Accuracy = 0.5 | Val Loss = 0.6237387923402246 | Val Accuracy = 0.5\n",
      "Epoch 30\n",
      "Loss = 0.6237387923402246 | Training Accuracy = 0.5 | Val Loss = 0.6217545332289932 | Val Accuracy = 0.5\n",
      "Epoch 31\n",
      "Loss = 0.6217545332289932 | Training Accuracy = 0.5 | Val Loss = 0.6197672010868542 | Val Accuracy = 0.5\n",
      "Epoch 32\n",
      "Loss = 0.6197672010868542 | Training Accuracy = 0.5 | Val Loss = 0.6177724745078642 | Val Accuracy = 0.5\n",
      "Epoch 33\n",
      "Loss = 0.6177724745078642 | Training Accuracy = 0.5 | Val Loss = 0.6157692046188377 | Val Accuracy = 0.5\n",
      "Epoch 34\n",
      "Loss = 0.6157692046188377 | Training Accuracy = 0.5 | Val Loss = 0.6137568394219995 | Val Accuracy = 0.5\n",
      "Epoch 35\n",
      "Loss = 0.6137568394219995 | Training Accuracy = 0.5 | Val Loss = 0.611725992732583 | Val Accuracy = 0.5\n",
      "Epoch 36\n",
      "Loss = 0.611725992732583 | Training Accuracy = 0.5 | Val Loss = 0.6096059473510969 | Val Accuracy = 0.5\n",
      "Epoch 37\n",
      "Loss = 0.6096059473510969 | Training Accuracy = 0.5 | Val Loss = 0.6075462479514208 | Val Accuracy = 0.5\n",
      "Epoch 38\n",
      "Loss = 0.6075462479514208 | Training Accuracy = 0.5 | Val Loss = 0.6054777395295996 | Val Accuracy = 0.5\n",
      "Epoch 39\n",
      "Loss = 0.6054777395295996 | Training Accuracy = 0.5 | Val Loss = 0.6033983454858267 | Val Accuracy = 0.5\n",
      "Epoch 40\n",
      "Loss = 0.6033983454858267 | Training Accuracy = 0.5 | Val Loss = 0.6013071881232603 | Val Accuracy = 0.5\n",
      "Epoch 41\n",
      "Loss = 0.6013071881232603 | Training Accuracy = 0.5 | Val Loss = 0.5992036830795472 | Val Accuracy = 0.5\n",
      "Epoch 42\n",
      "Loss = 0.5992036830795472 | Training Accuracy = 0.5 | Val Loss = 0.5970873257885634 | Val Accuracy = 0.5\n",
      "Epoch 43\n",
      "Loss = 0.5970873257885634 | Training Accuracy = 0.5 | Val Loss = 0.5949576302377385 | Val Accuracy = 0.5\n",
      "Epoch 44\n"
     ]
    },
    {
     "name": "stderr",
     "output_type": "stream",
     "text": [
      "100%|███████████████████████████████████████████| 1/1 [00:00<00:00, 166.65it/s]\n",
      "100%|███████████████████████████████████████████| 1/1 [00:00<00:00, 499.92it/s]\n",
      "100%|███████████████████████████████████████████| 1/1 [00:00<00:00, 285.70it/s]\n",
      "100%|███████████████████████████████████████████| 1/1 [00:00<00:00, 333.30it/s]\n",
      "100%|███████████████████████████████████████████| 1/1 [00:00<00:00, 499.86it/s]\n",
      "100%|███████████████████████████████████████████| 1/1 [00:00<00:00, 499.98it/s]\n",
      "100%|███████████████████████████████████████████| 1/1 [00:00<00:00, 399.95it/s]\n",
      "100%|███████████████████████████████████████████| 1/1 [00:00<00:00, 666.61it/s]\n",
      "100%|███████████████████████████████████████████| 1/1 [00:00<00:00, 333.30it/s]\n",
      "100%|███████████████████████████████████████████| 1/1 [00:00<00:00, 399.95it/s]\n",
      "100%|███████████████████████████████████████████| 1/1 [00:00<00:00, 499.92it/s]\n",
      "100%|███████████████████████████████████████████| 1/1 [00:00<00:00, 399.95it/s]\n",
      "100%|███████████████████████████████████████████| 1/1 [00:00<00:00, 399.91it/s]\n",
      "100%|███████████████████████████████████████████| 1/1 [00:00<00:00, 249.97it/s]\n",
      "100%|███████████████████████████████████████████| 1/1 [00:00<00:00, 249.96it/s]\n",
      "100%|███████████████████████████████████████████| 1/1 [00:00<00:00, 399.95it/s]\n",
      "100%|███████████████████████████████████████████| 1/1 [00:00<00:00, 285.66it/s]\n",
      "100%|███████████████████████████████████████████| 1/1 [00:00<00:00, 333.30it/s]\n",
      "100%|███████████████████████████████████████████| 1/1 [00:00<00:00, 399.95it/s]\n",
      "100%|███████████████████████████████████████████| 1/1 [00:00<00:00, 285.68it/s]\n",
      "100%|███████████████████████████████████████████| 1/1 [00:00<00:00, 285.68it/s]\n",
      "100%|███████████████████████████████████████████| 1/1 [00:00<00:00, 399.95it/s]\n",
      "100%|███████████████████████████████████████████| 1/1 [00:00<00:00, 249.97it/s]\n",
      "100%|███████████████████████████████████████████| 1/1 [00:00<00:00, 499.98it/s]\n",
      "100%|███████████████████████████████████████████| 1/1 [00:00<00:00, 399.95it/s]\n",
      "100%|███████████████████████████████████████████| 1/1 [00:00<00:00, 333.30it/s]\n",
      "100%|███████████████████████████████████████████| 1/1 [00:00<00:00, 333.30it/s]\n"
     ]
    },
    {
     "name": "stdout",
     "output_type": "stream",
     "text": [
      "Loss = 0.5949576302377385 | Training Accuracy = 0.5 | Val Loss = 0.5928141176151535 | Val Accuracy = 0.5\n",
      "Epoch 45\n",
      "Loss = 0.5928141176151535 | Training Accuracy = 0.5 | Val Loss = 0.5906563096389889 | Val Accuracy = 0.5\n",
      "Epoch 46\n",
      "Loss = 0.5906563096389889 | Training Accuracy = 0.5 | Val Loss = 0.5884837285228761 | Val Accuracy = 0.5\n",
      "Epoch 47\n",
      "Loss = 0.5884837285228761 | Training Accuracy = 0.5 | Val Loss = 0.5862958954338499 | Val Accuracy = 0.5\n",
      "Epoch 48\n",
      "Loss = 0.5862958954338499 | Training Accuracy = 0.5 | Val Loss = 0.5840923308225745 | Val Accuracy = 0.5\n",
      "Epoch 49\n",
      "Loss = 0.5840923308225745 | Training Accuracy = 0.5 | Val Loss = 0.5818725538667536 | Val Accuracy = 0.5\n",
      "Epoch 50\n",
      "Loss = 0.5818725538667536 | Training Accuracy = 0.5 | Val Loss = 0.579636082687198 | Val Accuracy = 0.5\n",
      "Epoch 51\n",
      "Loss = 0.579636082687198 | Training Accuracy = 0.5 | Val Loss = 0.5773824341456926 | Val Accuracy = 0.5\n",
      "Epoch 52\n",
      "Loss = 0.5773824341456926 | Training Accuracy = 0.5 | Val Loss = 0.5751111240156791 | Val Accuracy = 0.5\n",
      "Epoch 53\n",
      "Loss = 0.5751111240156791 | Training Accuracy = 0.5 | Val Loss = 0.5728216669549211 | Val Accuracy = 0.5\n",
      "Epoch 54\n",
      "Loss = 0.5728216669549211 | Training Accuracy = 0.5 | Val Loss = 0.570513576679691 | Val Accuracy = 0.5\n",
      "Epoch 55\n",
      "Loss = 0.570513576679691 | Training Accuracy = 0.5 | Val Loss = 0.5681945655557282 | Val Accuracy = 0.5\n",
      "Epoch 56\n",
      "Loss = 0.5681945655557282 | Training Accuracy = 0.5 | Val Loss = 0.565883165558723 | Val Accuracy = 0.5\n",
      "Epoch 57\n",
      "Loss = 0.565883165558723 | Training Accuracy = 0.5 | Val Loss = 0.5635026596483819 | Val Accuracy = 0.5"
     ]
    },
    {
     "name": "stderr",
     "output_type": "stream",
     "text": [
      "100%|████████████████████████████████████████████| 1/1 [00:00<00:00, 10.15it/s]\n",
      "  0%|                                                    | 0/1 [00:00<?, ?it/s]"
     ]
    },
    {
     "name": "stdout",
     "output_type": "stream",
     "text": [
      "\n",
      "Epoch 58\n"
     ]
    },
    {
     "name": "stderr",
     "output_type": "stream",
     "text": [
      "100%|████████████████████████████████████████████| 1/1 [00:00<00:00,  8.26it/s]\n",
      "100%|████████████████████████████████████████████| 1/1 [00:00<00:00,  9.66it/s]\n",
      "100%|███████████████████████████████████████████| 1/1 [00:00<00:00, 105.25it/s]\n",
      "100%|███████████████████████████████████████████| 1/1 [00:00<00:00, 399.95it/s]\n",
      "100%|███████████████████████████████████████████| 1/1 [00:00<00:00, 333.28it/s]\n",
      "100%|███████████████████████████████████████████| 1/1 [00:00<00:00, 249.99it/s]\n",
      "  0%|                                                    | 0/1 [00:00<?, ?it/s]"
     ]
    },
    {
     "name": "stdout",
     "output_type": "stream",
     "text": [
      "Loss = 0.5635026596483819 | Training Accuracy = 0.5 | Val Loss = 0.5611105624395785 | Val Accuracy = 0.5\n",
      "Epoch 59\n",
      "Loss = 0.5611105624395785 | Training Accuracy = 0.5 | Val Loss = 0.5587219412261787 | Val Accuracy = 0.5\n",
      "Epoch 60\n",
      "Loss = 0.5587219412261787 | Training Accuracy = 0.5 | Val Loss = 0.5563830519956173 | Val Accuracy = 0.5\n",
      "Epoch 61\n"
     ]
    },
    {
     "name": "stderr",
     "output_type": "stream",
     "text": [
      "100%|███████████████████████████████████████████| 1/1 [00:00<00:00, 399.99it/s]\n",
      "100%|███████████████████████████████████████████| 1/1 [00:00<00:00, 249.99it/s]\n",
      "100%|███████████████████████████████████████████| 1/1 [00:00<00:00, 399.99it/s]\n",
      "100%|███████████████████████████████████████████| 1/1 [00:00<00:00, 249.97it/s]\n",
      "100%|███████████████████████████████████████████| 1/1 [00:00<00:00, 399.91it/s]\n",
      "100%|███████████████████████████████████████████| 1/1 [00:00<00:00, 249.97it/s]\n",
      "100%|███████████████████████████████████████████| 1/1 [00:00<00:00, 222.19it/s]\n",
      "100%|███████████████████████████████████████████| 1/1 [00:00<00:00, 142.84it/s]\n",
      "100%|███████████████████████████████████████████| 1/1 [00:00<00:00, 105.25it/s]\n",
      "100%|███████████████████████████████████████████| 1/1 [00:00<00:00, 249.96it/s]\n",
      "100%|███████████████████████████████████████████| 1/1 [00:00<00:00, 399.95it/s]\n",
      "100%|███████████████████████████████████████████| 1/1 [00:00<00:00, 333.25it/s]\n",
      "100%|███████████████████████████████████████████| 1/1 [00:00<00:00, 222.19it/s]\n",
      "100%|███████████████████████████████████████████| 1/1 [00:00<00:00, 199.98it/s]\n",
      "100%|███████████████████████████████████████████| 1/1 [00:00<00:00, 153.82it/s]\n",
      "100%|███████████████████████████████████████████| 1/1 [00:00<00:00, 666.61it/s]\n",
      "100%|███████████████████████████████████████████| 1/1 [00:00<00:00, 999.60it/s]\n",
      "100%|███████████████████████████████████████████| 1/1 [00:00<00:00, 166.64it/s]\n",
      "100%|██████████████████████████████████████████| 1/1 [00:00<00:00, 1000.07it/s]\n",
      "100%|███████████████████████████████████████████| 1/1 [00:00<00:00, 399.95it/s]\n",
      "100%|███████████████████████████████████████████| 1/1 [00:00<00:00, 999.83it/s]\n",
      "100%|████████████████████████████████████████████| 1/1 [00:00<00:00, 79.99it/s]\n",
      "100%|██████████████████████████████████████████| 1/1 [00:00<00:00, 1000.07it/s]\n",
      "100%|███████████████████████████████████████████| 1/1 [00:00<00:00, 249.97it/s]\n",
      "100%|███████████████████████████████████████████| 1/1 [00:00<00:00, 999.83it/s]\n",
      "100%|██████████████████████████████████████████| 1/1 [00:00<00:00, 1999.19it/s]\n",
      "100%|███████████████████████████████████████████| 1/1 [00:00<00:00, 666.61it/s]\n",
      "100%|██████████████████████████████████████████| 1/1 [00:00<00:00, 2000.14it/s]\n",
      "100%|███████████████████████████████████████████| 1/1 [00:00<00:00, 999.83it/s]\n",
      "100%|███████████████████████████████████████████| 1/1 [00:00<00:00, 999.60it/s]\n",
      "100%|███████████████████████████████████████████| 1/1 [00:00<00:00, 999.83it/s]\n",
      "100%|███████████████████████████████████████████| 1/1 [00:00<00:00, 999.83it/s]\n",
      "  0%|                                                    | 0/1 [00:00<?, ?it/s]"
     ]
    },
    {
     "name": "stdout",
     "output_type": "stream",
     "text": [
      "Loss = 0.5563830519956173 | Training Accuracy = 0.5 | Val Loss = 0.55390440478572 | Val Accuracy = 0.5\n",
      "Epoch 62\n",
      "Loss = 0.55390440478572 | Training Accuracy = 0.5 | Val Loss = 0.5514151856920455 | Val Accuracy = 0.5\n",
      "Epoch 63\n",
      "Loss = 0.5514151856920455 | Training Accuracy = 0.5 | Val Loss = 0.5489081050612205 | Val Accuracy = 0.5\n",
      "Epoch 64\n",
      "Loss = 0.5489081050612205 | Training Accuracy = 0.5 | Val Loss = 0.546381830459112 | Val Accuracy = 0.5\n",
      "Epoch 65\n",
      "Loss = 0.546381830459112 | Training Accuracy = 0.5 | Val Loss = 0.5438357774681798 | Val Accuracy = 0.5\n",
      "Epoch 66\n",
      "Loss = 0.5438357774681798 | Training Accuracy = 0.5 | Val Loss = 0.541269215302384 | Val Accuracy = 0.5\n",
      "Epoch 67\n",
      "Loss = 0.541269215302384 | Training Accuracy = 0.5 | Val Loss = 0.5386742282204086 | Val Accuracy = 0.5\n",
      "Epoch 68\n",
      "Loss = 0.5386742282204086 | Training Accuracy = 0.5 | Val Loss = 0.536055097072506 | Val Accuracy = 0.5\n",
      "Epoch 69\n",
      "Loss = 0.536055097072506 | Training Accuracy = 0.5 | Val Loss = 0.5334110532147105 | Val Accuracy = 0.5\n",
      "Epoch 70\n",
      "Loss = 0.5334110532147105 | Training Accuracy = 0.5 | Val Loss = 0.5307417087615612 | Val Accuracy = 0.5\n",
      "Epoch 71\n",
      "Loss = 0.5307417087615612 | Training Accuracy = 1.0 | Val Loss = 0.5280466850603242 | Val Accuracy = 1.0\n",
      "Epoch 72\n",
      "Loss = 0.5280466850603242 | Training Accuracy = 0.75 | Val Loss = 0.5253258874547748 | Val Accuracy = 0.75\n",
      "Epoch 73\n",
      "Loss = 0.5253258874547748 | Training Accuracy = 1.0 | Val Loss = 0.5226622754946069 | Val Accuracy = 1.0\n",
      "Epoch 74\n",
      "Loss = 0.5226622754946069 | Training Accuracy = 0.5 | Val Loss = 0.5205201787026678 | Val Accuracy = 0.5\n",
      "Epoch 75\n",
      "Loss = 0.5205201787026678 | Training Accuracy = 1.0 | Val Loss = 0.5182063275742763 | Val Accuracy = 1.0\n",
      "Epoch 76\n",
      "Loss = 0.5182063275742763 | Training Accuracy = 0.5 | Val Loss = 0.516216307431419 | Val Accuracy = 0.5\n",
      "Epoch 77\n"
     ]
    },
    {
     "name": "stderr",
     "output_type": "stream",
     "text": [
      "100%|███████████████████████████████████████████| 1/1 [00:00<00:00, 999.83it/s]\n",
      "100%|███████████████████████████████████████████| 1/1 [00:00<00:00, 999.60it/s]\n",
      "100%|███████████████████████████████████████████| 1/1 [00:00<00:00, 999.83it/s]\n",
      "100%|██████████████████████████████████████████| 1/1 [00:00<00:00, 1000.07it/s]\n",
      "100%|████████████████████████████████████████████| 1/1 [00:00<00:00, 52.62it/s]\n",
      "100%|███████████████████████████████████████████| 1/1 [00:00<00:00, 399.95it/s]\n",
      "100%|██████████████████████████████████████████| 1/1 [00:00<00:00, 1000.07it/s]\n",
      "100%|███████████████████████████████████████████| 1/1 [00:00<00:00, 999.83it/s]\n",
      "100%|███████████████████████████████████████████| 1/1 [00:00<00:00, 499.86it/s]\n",
      "100%|███████████████████████████████████████████| 1/1 [00:00<00:00, 999.83it/s]\n",
      "100%|██████████████████████████████████████████| 1/1 [00:00<00:00, 1000.07it/s]\n",
      "100%|███████████████████████████████████████████| 1/1 [00:00<00:00, 999.83it/s]\n",
      "100%|██████████████████████████████████████████| 1/1 [00:00<00:00, 1000.07it/s]\n",
      "100%|███████████████████████████████████████████| 1/1 [00:00<00:00, 999.83it/s]\n",
      "100%|███████████████████████████████████████████| 1/1 [00:00<00:00, 666.61it/s]\n",
      "100%|███████████████████████████████████████████| 1/1 [00:00<00:00, 999.83it/s]\n",
      "100%|███████████████████████████████████████████| 1/1 [00:00<00:00, 999.60it/s]\n",
      "100%|██████████████████████████████████████████| 1/1 [00:00<00:00, 1000.07it/s]\n",
      "100%|███████████████████████████████████████████| 1/1 [00:00<00:00, 499.92it/s]\n",
      "100%|██████████████████████████████████████████| 1/1 [00:00<00:00, 1000.07it/s]\n",
      "100%|███████████████████████████████████████████| 1/1 [00:00<00:00, 999.83it/s]\n",
      "100%|███████████████████████████████████████████| 1/1 [00:00<00:00, 499.98it/s]\n",
      "100%|███████████████████████████████████████████| 1/1 [00:00<00:00, 499.92it/s]\n",
      "100%|███████████████████████████████████████████| 1/1 [00:00<00:00, 499.98it/s]\n",
      "100%|███████████████████████████████████████████| 1/1 [00:00<00:00, 117.63it/s]\n",
      "100%|███████████████████████████████████████████| 1/1 [00:00<00:00, 666.61it/s]\n",
      "100%|███████████████████████████████████████████| 1/1 [00:00<00:00, 999.83it/s]\n",
      "100%|███████████████████████████████████████████| 1/1 [00:00<00:00, 999.83it/s]\n",
      "100%|███████████████████████████████████████████| 1/1 [00:00<00:00, 999.83it/s]\n",
      "100%|███████████████████████████████████████████| 1/1 [00:00<00:00, 999.83it/s]\n",
      "100%|███████████████████████████████████████████| 1/1 [00:00<00:00, 999.83it/s]\n",
      "100%|███████████████████████████████████████████| 1/1 [00:00<00:00, 999.83it/s]\n",
      "100%|███████████████████████████████████████████| 1/1 [00:00<00:00, 333.28it/s]\n",
      "100%|███████████████████████████████████████████| 1/1 [00:00<00:00, 999.83it/s]\n",
      "100%|███████████████████████████████████████████| 1/1 [00:00<00:00, 999.83it/s]\n",
      "100%|███████████████████████████████████████████| 1/1 [00:00<00:00, 999.83it/s]\n",
      "100%|██████████████████████████████████████████| 1/1 [00:00<00:00, 1000.07it/s]\n",
      "100%|███████████████████████████████████████████| 1/1 [00:00<00:00, 999.60it/s]\n",
      "100%|██████████████████████████████████████████| 1/1 [00:00<00:00, 2000.14it/s]\n",
      "100%|███████████████████████████████████████████| 1/1 [00:00<00:00, 999.83it/s]\n",
      "100%|██████████████████████████████████████████| 1/1 [00:00<00:00, 1000.07it/s]\n",
      "100%|███████████████████████████████████████████| 1/1 [00:00<00:00, 999.60it/s]\n",
      "100%|███████████████████████████████████████████| 1/1 [00:00<00:00, 999.83it/s]\n",
      "100%|███████████████████████████████████████████| 1/1 [00:00<00:00, 999.83it/s]\n",
      "100%|██████████████████████████████████████████| 1/1 [00:00<00:00, 1000.07it/s]\n",
      "100%|███████████████████████████████████████████| 1/1 [00:00<00:00, 999.36it/s]\n",
      "100%|███████████████████████████████████████████| 1/1 [00:00<00:00, 666.61it/s]"
     ]
    },
    {
     "name": "stdout",
     "output_type": "stream",
     "text": [
      "Loss = 0.516216307431419 | Training Accuracy = 1.0 | Val Loss = 0.5140236176583617 | Val Accuracy = 1.0\n",
      "Epoch 78\n",
      "Loss = 0.5140236176583617 | Training Accuracy = 0.5 | Val Loss = 0.5126500007132325 | Val Accuracy = 0.5\n",
      "Epoch 79\n",
      "Loss = 0.5126500007132325 | Training Accuracy = 1.0 | Val Loss = 0.5117612119879843 | Val Accuracy = 1.0\n",
      "Epoch 80\n",
      "Loss = 0.5117612119879843 | Training Accuracy = 0.5 | Val Loss = 0.5158902049029532 | Val Accuracy = 0.5\n",
      "Epoch 81\n",
      "Loss = 0.5158902049029532 | Training Accuracy = 1.0 | Val Loss = 0.5173318973445442 | Val Accuracy = 1.0\n",
      "Epoch 82\n",
      "Loss = 0.5173318973445442 | Training Accuracy = 0.5 | Val Loss = 0.5335779661677639 | Val Accuracy = 0.5\n",
      "Epoch 83\n",
      "Loss = 0.5335779661677639 | Training Accuracy = 1.0 | Val Loss = 0.5425657999599935 | Val Accuracy = 1.0\n",
      "Epoch 84\n",
      "Loss = 0.5425657999599935 | Training Accuracy = 0.5 | Val Loss = 0.6080577326992007 | Val Accuracy = 0.5\n",
      "Epoch 85\n",
      "Loss = 0.6080577326992007 | Training Accuracy = 1.0 | Val Loss = 0.5764106035758392 | Val Accuracy = 1.0\n",
      "Epoch 86\n",
      "Loss = 0.5764106035758392 | Training Accuracy = 0.5 | Val Loss = 0.6520334208529949 | Val Accuracy = 0.5\n",
      "Epoch 87\n",
      "Loss = 0.6520334208529949 | Training Accuracy = 1.0 | Val Loss = 0.5523365101219581 | Val Accuracy = 1.0\n",
      "Epoch 88\n",
      "Loss = 0.5523365101219581 | Training Accuracy = 0.5 | Val Loss = 0.5756289448968547 | Val Accuracy = 0.5\n",
      "Epoch 89\n",
      "Loss = 0.5756289448968547 | Training Accuracy = 1.0 | Val Loss = 0.5269822878079027 | Val Accuracy = 1.0\n",
      "Epoch 90\n",
      "Loss = 0.5269822878079027 | Training Accuracy = 0.5 | Val Loss = 0.5360832371562769 | Val Accuracy = 0.5\n",
      "Epoch 91\n",
      "Loss = 0.5360832371562769 | Training Accuracy = 1.0 | Val Loss = 0.5091643909684005 | Val Accuracy = 1.0\n",
      "Epoch 92\n",
      "Loss = 0.5091643909684005 | Training Accuracy = 0.5 | Val Loss = 0.5115563707497255 | Val Accuracy = 0.5\n",
      "Epoch 93\n",
      "Loss = 0.5115563707497255 | Training Accuracy = 1.0 | Val Loss = 0.4958484917828983 | Val Accuracy = 1.0\n",
      "Epoch 94\n",
      "Loss = 0.4958484917828983 | Training Accuracy = 0.5 | Val Loss = 0.49797692251651576 | Val Accuracy = 0.5\n",
      "Epoch 95\n",
      "Loss = 0.49797692251651576 | Training Accuracy = 1.0 | Val Loss = 0.48702533440345225 | Val Accuracy = 1.0\n",
      "Epoch 96\n",
      "Loss = 0.48702533440345225 | Training Accuracy = 0.5 | Val Loss = 0.4881360993713328 | Val Accuracy = 0.5\n",
      "Epoch 97\n",
      "Loss = 0.4881360993713328 | Training Accuracy = 1.0 | Val Loss = 0.4810780616024044 | Val Accuracy = 1.0\n",
      "Epoch 98\n",
      "Loss = 0.4810780616024044 | Training Accuracy = 0.5 | Val Loss = 0.4859647374971318 | Val Accuracy = 0.5\n",
      "Epoch 99\n",
      "Loss = 0.4859647374971318 | Training Accuracy = 1.0 | Val Loss = 0.4792100585166976 | Val Accuracy = 1.0\n",
      "Epoch 100\n",
      "Loss = 0.4792100585166976 | Training Accuracy = 0.5 | Val Loss = 0.48804110039070603 | Val Accuracy = 0.5\n"
     ]
    },
    {
     "name": "stderr",
     "output_type": "stream",
     "text": [
      "\n"
     ]
    }
   ],
   "source": [
    "\n",
    "# Get preprocessed training and validation data\n",
    "\n",
    "X_train = np.array([\n",
    "    [1, 2, 1, 2],\n",
    "    [2, 4, 2, 4],\n",
    "    [2, 1, 2, 1],\n",
    "    [4, 2, 4, 2],\n",
    "])\n",
    "\n",
    "y_train = np.array([0, 1, 0, 1])\n",
    "X_val = X_train.copy()\n",
    "y_val = y_train.copy()\n",
    "\n",
    "print(X_train.shape)\n",
    "print(X_val.shape)\n",
    "\n",
    "\n",
    "# define neural net\n",
    "model = NN()\n",
    "\n",
    "# add some layers\n",
    "model.add_layer(Linear(4, 100))\n",
    "model.add_layer(ReLU())\n",
    "model.add_layer(Linear(100, 100))\n",
    "model.add_layer(ReLU())\n",
    "model.add_layer(Linear(100, 2))\n",
    "\n",
    "model = train(model, X_train , y_train, minibatch_size=4, epoch=100,\n",
    "           learning_rate=0.1, X_val=X_val, y_val=y_val)\n",
    "\n",
    "\n"
   ]
  },
  {
   "cell_type": "markdown",
   "metadata": {},
   "source": [
    "## Mnist training"
   ]
  },
  {
   "cell_type": "code",
   "execution_count": 37,
   "metadata": {},
   "outputs": [],
   "source": [
    "from sklearn.datasets import fetch_openml\n",
    "from sklearn.model_selection import train_test_split"
   ]
  },
  {
   "cell_type": "code",
   "execution_count": 38,
   "metadata": {},
   "outputs": [],
   "source": [
    "X, y = fetch_openml('mnist_784', version=1, return_X_y=True)"
   ]
  },
  {
   "cell_type": "code",
   "execution_count": 39,
   "metadata": {},
   "outputs": [],
   "source": [
    "y = y.astype(np.int32)\n",
    "X_train, X_val, y_train, y_val = train_test_split(X, y, \n",
    "                                                  test_size=0.25,\n",
    "                                                  shuffle=True,\n",
    "                                                  random_state=0)\n"
   ]
  },
  {
   "cell_type": "code",
   "execution_count": 54,
   "metadata": {},
   "outputs": [],
   "source": [
    "import matplotlib.pyplot as plt\n",
    "%matplotlib inline"
   ]
  },
  {
   "cell_type": "code",
   "execution_count": 55,
   "metadata": {},
   "outputs": [
    {
     "data": {
      "image/png": "[encoded data removed]",
      "text/plain": [
       "<Figure size 432x288 with 1 Axes>"
      ]
     },
     "metadata": {
      "needs_background": "light"
     },
     "output_type": "display_data"
    }
   ],
   "source": [
    "# visualize data\n",
    "\n",
    "def vis(img, label):\n",
    "    plt.imshow(img, cmap='gray')\n",
    "    plt.title(label)\n",
    "    plt.axis('off')\n",
    "    plt.show()\n",
    "\n",
    "vis_idx = 0\n",
    "vis(X_val[vis_idx].reshape(-1, 28), y_val[vis_idx])"
   ]
  },
  {
   "cell_type": "code",
   "execution_count": 72,
   "metadata": {},
   "outputs": [
    {
     "name": "stdout",
     "output_type": "stream",
     "text": [
      "(52500, 784)\n",
      "(17500, 784)\n"
     ]
    },
    {
     "name": "stderr",
     "output_type": "stream",
     "text": [
      "  7%|██▊                                     | 29/411 [00:00<00:01, 284.28it/s]"
     ]
    },
    {
     "name": "stdout",
     "output_type": "stream",
     "text": [
      "Epoch 1\n"
     ]
    },
    {
     "name": "stderr",
     "output_type": "stream",
     "text": [
      "100%|███████████████████████████████████████| 411/411 [00:01<00:00, 209.35it/s]\n",
      "100%|██████████████████████████████████████| 137/137 [00:00<00:00, 1170.79it/s]\n",
      "  9%|███▍                                    | 35/411 [00:00<00:01, 325.54it/s]"
     ]
    },
    {
     "name": "stdout",
     "output_type": "stream",
     "text": [
      "Loss = 1.431633889342587 | Training Accuracy = 0.8950857142857143 | Val Loss = 0.38727481318209017 | Val Accuracy = 0.8880571428571429\n",
      "Epoch 2\n"
     ]
    },
    {
     "name": "stderr",
     "output_type": "stream",
     "text": [
      "100%|███████████████████████████████████████| 411/411 [00:01<00:00, 353.05it/s]\n",
      "100%|███████████████████████████████████████| 137/137 [00:00<00:00, 801.07it/s]\n",
      " 10%|███▉                                    | 41/411 [00:00<00:00, 407.91it/s]"
     ]
    },
    {
     "name": "stdout",
     "output_type": "stream",
     "text": [
      "Loss = 0.4139228111697467 | Training Accuracy = 0.9248190476190477 | Val Loss = 0.4197660455102953 | Val Accuracy = 0.9160571428571429\n",
      "Epoch 3\n"
     ]
    },
    {
     "name": "stderr",
     "output_type": "stream",
     "text": [
      "100%|███████████████████████████████████████| 411/411 [00:01<00:00, 326.15it/s]\n",
      "100%|██████████████████████████████████████| 137/137 [00:00<00:00, 1104.70it/s]\n",
      "  0%|                                                  | 0/411 [00:00<?, ?it/s]"
     ]
    },
    {
     "name": "stdout",
     "output_type": "stream",
     "text": [
      "Loss = 0.34771860367759433 | Training Accuracy = 0.9340190476190476 | Val Loss = 0.5904568468746436 | Val Accuracy = 0.9244\n",
      "Epoch 4\n"
     ]
    },
    {
     "name": "stderr",
     "output_type": "stream",
     "text": [
      "100%|███████████████████████████████████████| 411/411 [00:01<00:00, 273.78it/s]\n",
      "100%|███████████████████████████████████████| 137/137 [00:00<00:00, 957.92it/s]\n",
      " 10%|███▉                                    | 40/411 [00:00<00:00, 394.04it/s]"
     ]
    },
    {
     "name": "stdout",
     "output_type": "stream",
     "text": [
      "Loss = 0.31708297176397776 | Training Accuracy = 0.9408380952380953 | Val Loss = 0.6889724344700928 | Val Accuracy = 0.9300571428571428\n",
      "Epoch 5\n"
     ]
    },
    {
     "name": "stderr",
     "output_type": "stream",
     "text": [
      "100%|███████████████████████████████████████| 411/411 [00:01<00:00, 228.49it/s]\n",
      "100%|███████████████████████████████████████| 137/137 [00:00<00:00, 981.95it/s]\n",
      " 10%|███▉                                    | 40/411 [00:00<00:00, 392.11it/s]"
     ]
    },
    {
     "name": "stdout",
     "output_type": "stream",
     "text": [
      "Loss = 0.2978697507745847 | Training Accuracy = 0.9448190476190477 | Val Loss = 0.7063488434362837 | Val Accuracy = 0.9334857142857143\n",
      "Epoch 6\n"
     ]
    },
    {
     "name": "stderr",
     "output_type": "stream",
     "text": [
      "100%|███████████████████████████████████████| 411/411 [00:01<00:00, 217.20it/s]\n",
      "100%|███████████████████████████████████████| 137/137 [00:00<00:00, 919.34it/s]\n",
      " 19%|███████▊                                | 80/411 [00:00<00:00, 393.46it/s]"
     ]
    },
    {
     "name": "stdout",
     "output_type": "stream",
     "text": [
      "Loss = 0.28383047955024154 | Training Accuracy = 0.9475809523809524 | Val Loss = 0.7705832812963108 | Val Accuracy = 0.9356\n",
      "Epoch 7\n"
     ]
    },
    {
     "name": "stderr",
     "output_type": "stream",
     "text": [
      "100%|███████████████████████████████████████| 411/411 [00:01<00:00, 348.70it/s]\n",
      "100%|██████████████████████████████████████| 137/137 [00:00<00:00, 1104.70it/s]\n",
      " 10%|███▉                                    | 40/411 [00:00<00:00, 399.95it/s]"
     ]
    },
    {
     "name": "stdout",
     "output_type": "stream",
     "text": [
      "Loss = 0.2715841601200997 | Training Accuracy = 0.9496190476190476 | Val Loss = 0.7025122293942774 | Val Accuracy = 0.9362285714285714\n",
      "Epoch 8\n"
     ]
    },
    {
     "name": "stderr",
     "output_type": "stream",
     "text": [
      "100%|███████████████████████████████████████| 411/411 [00:01<00:00, 261.17it/s]\n",
      "100%|██████████████████████████████████████| 137/137 [00:00<00:00, 1014.69it/s]\n",
      "  9%|███▊                                    | 39/411 [00:00<00:00, 382.30it/s]"
     ]
    },
    {
     "name": "stdout",
     "output_type": "stream",
     "text": [
      "Loss = 0.2628694540269401 | Training Accuracy = 0.9513333333333334 | Val Loss = 0.7279594204987526 | Val Accuracy = 0.9380571428571428\n",
      "Epoch 9\n"
     ]
    },
    {
     "name": "stderr",
     "output_type": "stream",
     "text": [
      "100%|███████████████████████████████████████| 411/411 [00:01<00:00, 270.63it/s]\n",
      "100%|███████████████████████████████████████| 137/137 [00:00<00:00, 928.69it/s]\n",
      " 10%|███▉                                    | 41/411 [00:00<00:00, 379.58it/s]"
     ]
    },
    {
     "name": "stdout",
     "output_type": "stream",
     "text": [
      "Loss = 0.254150889497559 | Training Accuracy = 0.9512380952380952 | Val Loss = 0.7235332978839739 | Val Accuracy = 0.9382857142857143\n",
      "Epoch 10\n"
     ]
    },
    {
     "name": "stderr",
     "output_type": "stream",
     "text": [
      "100%|███████████████████████████████████████| 411/411 [00:01<00:00, 336.70it/s]\n",
      "100%|██████████████████████████████████████| 137/137 [00:00<00:00, 1160.87it/s]\n",
      "  4%|█▊                                      | 18/411 [00:00<00:02, 148.13it/s]"
     ]
    },
    {
     "name": "stdout",
     "output_type": "stream",
     "text": [
      "Loss = 0.24716888201926251 | Training Accuracy = 0.9538666666666666 | Val Loss = 0.6932310027508055 | Val Accuracy = 0.9393714285714285\n",
      "Epoch 11\n"
     ]
    },
    {
     "name": "stderr",
     "output_type": "stream",
     "text": [
      "100%|███████████████████████████████████████| 411/411 [00:01<00:00, 256.04it/s]\n",
      "100%|███████████████████████████████████████| 137/137 [00:00<00:00, 880.92it/s]\n",
      " 19%|███████▊                                | 80/411 [00:00<00:00, 397.37it/s]"
     ]
    },
    {
     "name": "stdout",
     "output_type": "stream",
     "text": [
      "Loss = 0.24077033769965092 | Training Accuracy = 0.9542666666666667 | Val Loss = 0.6638115599936704 | Val Accuracy = 0.9398857142857143\n",
      "Epoch 12\n"
     ]
    },
    {
     "name": "stderr",
     "output_type": "stream",
     "text": [
      "100%|███████████████████████████████████████| 411/411 [00:01<00:00, 258.30it/s]\n",
      "100%|██████████████████████████████████████| 137/137 [00:00<00:00, 1022.26it/s]\n",
      "  8%|███                                     | 31/411 [00:00<00:01, 305.38it/s]"
     ]
    },
    {
     "name": "stdout",
     "output_type": "stream",
     "text": [
      "Loss = 0.2350529306736216 | Training Accuracy = 0.9539047619047619 | Val Loss = 0.6200093912269917 | Val Accuracy = 0.9404\n",
      "Epoch 13\n"
     ]
    },
    {
     "name": "stderr",
     "output_type": "stream",
     "text": [
      "100%|███████████████████████████████████████| 411/411 [00:01<00:00, 335.60it/s]\n",
      "100%|███████████████████████████████████████| 137/137 [00:00<00:00, 234.56it/s]\n",
      " 10%|███▉                                    | 40/411 [00:00<00:00, 392.11it/s]"
     ]
    },
    {
     "name": "stdout",
     "output_type": "stream",
     "text": [
      "Loss = 0.22881770212710437 | Training Accuracy = 0.956247619047619 | Val Loss = 0.5884725196454867 | Val Accuracy = 0.9402285714285714\n",
      "Epoch 14\n"
     ]
    },
    {
     "name": "stderr",
     "output_type": "stream",
     "text": [
      "100%|███████████████████████████████████████| 411/411 [00:01<00:00, 327.97it/s]\n",
      "100%|███████████████████████████████████████| 137/137 [00:00<00:00, 964.67it/s]\n",
      "  8%|███                                     | 31/411 [00:00<00:01, 275.52it/s]"
     ]
    },
    {
     "name": "stdout",
     "output_type": "stream",
     "text": [
      "Loss = 0.2231678527579224 | Training Accuracy = 0.9575428571428571 | Val Loss = 0.5804110179581458 | Val Accuracy = 0.9402857142857143\n",
      "Epoch 15\n"
     ]
    },
    {
     "name": "stderr",
     "output_type": "stream",
     "text": [
      "100%|███████████████████████████████████████| 411/411 [00:01<00:00, 324.86it/s]\n",
      "100%|██████████████████████████████████████| 137/137 [00:00<00:00, 1074.37it/s]\n",
      " 10%|███▉                                    | 40/411 [00:00<00:00, 394.04it/s]"
     ]
    },
    {
     "name": "stdout",
     "output_type": "stream",
     "text": [
      "Loss = 0.2170885375875786 | Training Accuracy = 0.9593333333333334 | Val Loss = 0.5452425148485329 | Val Accuracy = 0.9419428571428572\n",
      "Epoch 16\n"
     ]
    },
    {
     "name": "stderr",
     "output_type": "stream",
     "text": [
      "100%|███████████████████████████████████████| 411/411 [00:01<00:00, 247.26it/s]\n",
      "100%|██████████████████████████████████████| 137/137 [00:00<00:00, 1170.79it/s]\n",
      "  9%|███▊                                    | 39/411 [00:00<00:00, 388.01it/s]"
     ]
    },
    {
     "name": "stdout",
     "output_type": "stream",
     "text": [
      "Loss = 0.21318365683020718 | Training Accuracy = 0.9597523809523809 | Val Loss = 0.5423262483178157 | Val Accuracy = 0.9425142857142857\n",
      "Epoch 17\n"
     ]
    },
    {
     "name": "stderr",
     "output_type": "stream",
     "text": [
      "100%|███████████████████████████████████████| 411/411 [00:01<00:00, 270.01it/s]\n",
      "100%|███████████████████████████████████████| 137/137 [00:00<00:00, 746.50it/s]\n",
      "  8%|███▎                                    | 34/411 [00:00<00:01, 333.29it/s]"
     ]
    },
    {
     "name": "stdout",
     "output_type": "stream",
     "text": [
      "Loss = 0.20961391445012045 | Training Accuracy = 0.9579047619047619 | Val Loss = 0.5300238701112422 | Val Accuracy = 0.9406285714285715\n",
      "Epoch 18\n"
     ]
    },
    {
     "name": "stderr",
     "output_type": "stream",
     "text": [
      "100%|███████████████████████████████████████| 411/411 [00:01<00:00, 272.60it/s]\n",
      "100%|██████████████████████████████████████| 137/137 [00:00<00:00, 1045.67it/s]\n",
      "  9%|███▌                                    | 37/411 [00:00<00:01, 368.11it/s]"
     ]
    },
    {
     "name": "stdout",
     "output_type": "stream",
     "text": [
      "Loss = 0.2054914222021353 | Training Accuracy = 0.9601333333333333 | Val Loss = 0.5076801837954769 | Val Accuracy = 0.9415428571428571\n",
      "Epoch 19\n"
     ]
    },
    {
     "name": "stderr",
     "output_type": "stream",
     "text": [
      "100%|███████████████████████████████████████| 411/411 [00:02<00:00, 196.06it/s]\n",
      "100%|███████████████████████████████████████| 137/137 [00:00<00:00, 720.96it/s]\n",
      "  7%|██▋                                     | 28/411 [00:00<00:01, 275.83it/s]"
     ]
    },
    {
     "name": "stdout",
     "output_type": "stream",
     "text": [
      "Loss = 0.2004919416227193 | Training Accuracy = 0.9617904761904762 | Val Loss = 0.49632776341997775 | Val Accuracy = 0.9427428571428571\n",
      "Epoch 20\n"
     ]
    },
    {
     "name": "stderr",
     "output_type": "stream",
     "text": [
      "100%|███████████████████████████████████████| 411/411 [00:01<00:00, 304.29it/s]\n",
      "100%|███████████████████████████████████████| 137/137 [00:00<00:00, 778.31it/s]\n",
      "  9%|███▌                                    | 36/411 [00:00<00:01, 356.39it/s]"
     ]
    },
    {
     "name": "stdout",
     "output_type": "stream",
     "text": [
      "Loss = 0.19709646824979085 | Training Accuracy = 0.9624952380952381 | Val Loss = 0.4939898651845801 | Val Accuracy = 0.9434857142857143\n",
      "Epoch 21\n"
     ]
    },
    {
     "name": "stderr",
     "output_type": "stream",
     "text": [
      "100%|███████████████████████████████████████| 411/411 [00:01<00:00, 231.06it/s]\n",
      "100%|██████████████████████████████████████| 137/137 [00:00<00:00, 1095.86it/s]\n",
      "  9%|███▊                                    | 39/411 [00:00<00:00, 389.95it/s]"
     ]
    },
    {
     "name": "stdout",
     "output_type": "stream",
     "text": [
      "Loss = 0.19381374654381373 | Training Accuracy = 0.9624571428571429 | Val Loss = 0.4937992428016054 | Val Accuracy = 0.9433714285714285\n",
      "Epoch 22\n"
     ]
    },
    {
     "name": "stderr",
     "output_type": "stream",
     "text": [
      "100%|███████████████████████████████████████| 411/411 [00:01<00:00, 234.49it/s]\n",
      "100%|███████████████████████████████████████| 137/137 [00:00<00:00, 817.81it/s]\n",
      "  6%|██▍                                     | 25/411 [00:00<00:02, 151.96it/s]"
     ]
    },
    {
     "name": "stdout",
     "output_type": "stream",
     "text": [
      "Loss = 0.1904145617566779 | Training Accuracy = 0.9616 | Val Loss = 0.5060645274996552 | Val Accuracy = 0.9443428571428572\n",
      "Epoch 23\n"
     ]
    },
    {
     "name": "stderr",
     "output_type": "stream",
     "text": [
      "100%|███████████████████████████████████████| 411/411 [00:01<00:00, 236.04it/s]\n",
      "100%|██████████████████████████████████████| 137/137 [00:00<00:00, 1127.43it/s]\n",
      "  8%|███▎                                    | 34/411 [00:00<00:01, 339.96it/s]"
     ]
    },
    {
     "name": "stdout",
     "output_type": "stream",
     "text": [
      "Loss = 0.18831550217771256 | Training Accuracy = 0.9617904761904762 | Val Loss = 0.515441005774777 | Val Accuracy = 0.9426285714285715\n",
      "Epoch 24\n"
     ]
    },
    {
     "name": "stderr",
     "output_type": "stream",
     "text": [
      "100%|███████████████████████████████████████| 411/411 [00:01<00:00, 304.74it/s]\n",
      "100%|███████████████████████████████████████| 137/137 [00:00<00:00, 278.42it/s]\n",
      "  9%|███▌                                    | 36/411 [00:00<00:01, 358.16it/s]"
     ]
    },
    {
     "name": "stdout",
     "output_type": "stream",
     "text": [
      "Loss = 0.1848875465877156 | Training Accuracy = 0.9626095238095238 | Val Loss = 0.52096631718239 | Val Accuracy = 0.9445142857142858\n",
      "Epoch 25\n"
     ]
    },
    {
     "name": "stderr",
     "output_type": "stream",
     "text": [
      "100%|███████████████████████████████████████| 411/411 [00:01<00:00, 234.83it/s]\n",
      "100%|██████████████████████████████████████| 137/137 [00:00<00:00, 1045.67it/s]\n",
      "  8%|███                                     | 32/411 [00:00<00:01, 315.23it/s]"
     ]
    },
    {
     "name": "stdout",
     "output_type": "stream",
     "text": [
      "Loss = 0.18112461163136692 | Training Accuracy = 0.9635428571428571 | Val Loss = 0.48367587229650333 | Val Accuracy = 0.944\n",
      "Epoch 26\n"
     ]
    },
    {
     "name": "stderr",
     "output_type": "stream",
     "text": [
      "100%|███████████████████████████████████████| 411/411 [00:01<00:00, 241.31it/s]\n",
      "100%|██████████████████████████████████████| 137/137 [00:00<00:00, 1127.43it/s]\n",
      "  0%|                                                  | 0/411 [00:00<?, ?it/s]"
     ]
    },
    {
     "name": "stdout",
     "output_type": "stream",
     "text": [
      "Loss = 0.17803023232058746 | Training Accuracy = 0.964704761904762 | Val Loss = 0.4819014022504071 | Val Accuracy = 0.9452\n",
      "Epoch 27\n"
     ]
    },
    {
     "name": "stderr",
     "output_type": "stream",
     "text": [
      "100%|███████████████████████████████████████| 411/411 [00:01<00:00, 245.12it/s]\n",
      "100%|██████████████████████████████████████| 137/137 [00:00<00:00, 1053.71it/s]\n",
      "  4%|█▌                                      | 16/411 [00:00<00:02, 146.77it/s]"
     ]
    },
    {
     "name": "stdout",
     "output_type": "stream",
     "text": [
      "Loss = 0.17616880658654926 | Training Accuracy = 0.9643047619047619 | Val Loss = 0.4504212092816643 | Val Accuracy = 0.944\n",
      "Epoch 28\n"
     ]
    },
    {
     "name": "stderr",
     "output_type": "stream",
     "text": [
      "100%|███████████████████████████████████████| 411/411 [00:01<00:00, 270.90it/s]\n",
      "100%|██████████████████████████████████████| 137/137 [00:00<00:00, 1223.06it/s]\n",
      "  8%|███                                     | 32/411 [00:00<00:01, 319.96it/s]"
     ]
    },
    {
     "name": "stdout",
     "output_type": "stream",
     "text": [
      "Loss = 0.17401824293853446 | Training Accuracy = 0.9648761904761904 | Val Loss = 0.459742743327121 | Val Accuracy = 0.9438857142857143\n",
      "Epoch 29\n"
     ]
    },
    {
     "name": "stderr",
     "output_type": "stream",
     "text": [
      "100%|███████████████████████████████████████| 411/411 [00:01<00:00, 211.50it/s]\n",
      "100%|███████████████████████████████████████| 137/137 [00:00<00:00, 827.69it/s]\n",
      " 10%|███▉                                    | 40/411 [00:00<00:00, 395.99it/s]"
     ]
    },
    {
     "name": "stdout",
     "output_type": "stream",
     "text": [
      "Loss = 0.17177152331901352 | Training Accuracy = 0.9647619047619047 | Val Loss = 0.4412083585560452 | Val Accuracy = 0.9441714285714286\n",
      "Epoch 30\n"
     ]
    },
    {
     "name": "stderr",
     "output_type": "stream",
     "text": [
      "100%|███████████████████████████████████████| 411/411 [00:01<00:00, 261.17it/s]\n",
      "100%|██████████████████████████████████████| 137/137 [00:00<00:00, 1037.75it/s]\n",
      " 10%|███▉                                    | 41/411 [00:00<00:00, 409.95it/s]"
     ]
    },
    {
     "name": "stdout",
     "output_type": "stream",
     "text": [
      "Loss = 0.17005816966905876 | Training Accuracy = 0.9664761904761905 | Val Loss = 0.44511537003216217 | Val Accuracy = 0.9450857142857143\n",
      "Epoch 31\n"
     ]
    },
    {
     "name": "stderr",
     "output_type": "stream",
     "text": [
      "100%|███████████████████████████████████████| 411/411 [00:01<00:00, 368.89it/s]\n",
      "100%|██████████████████████████████████████| 137/137 [00:00<00:00, 1029.94it/s]\n",
      " 10%|████                                    | 42/411 [00:00<00:00, 409.70it/s]"
     ]
    },
    {
     "name": "stdout",
     "output_type": "stream",
     "text": [
      "Loss = 0.16757253529553015 | Training Accuracy = 0.9642095238095238 | Val Loss = 0.39387057520342744 | Val Accuracy = 0.9442285714285714\n",
      "Epoch 32\n"
     ]
    },
    {
     "name": "stderr",
     "output_type": "stream",
     "text": [
      "100%|███████████████████████████████████████| 411/411 [00:01<00:00, 270.09it/s]\n",
      "100%|██████████████████████████████████████| 137/137 [00:00<00:00, 1026.08it/s]\n",
      " 10%|███▉                                    | 40/411 [00:00<00:00, 399.95it/s]"
     ]
    },
    {
     "name": "stdout",
     "output_type": "stream",
     "text": [
      "Loss = 0.16560216674083164 | Training Accuracy = 0.964704761904762 | Val Loss = 0.4005762532699601 | Val Accuracy = 0.9438857142857143\n",
      "Epoch 33\n"
     ]
    },
    {
     "name": "stderr",
     "output_type": "stream",
     "text": [
      "100%|███████████████████████████████████████| 411/411 [00:01<00:00, 359.06it/s]\n",
      "100%|██████████████████████████████████████| 137/137 [00:00<00:00, 1191.15it/s]\n",
      "  9%|███▊                                    | 39/411 [00:00<00:00, 386.09it/s]"
     ]
    },
    {
     "name": "stdout",
     "output_type": "stream",
     "text": [
      "Loss = 0.16269360960946752 | Training Accuracy = 0.9670285714285715 | Val Loss = 0.4007308873416855 | Val Accuracy = 0.9457714285714286\n",
      "Epoch 34\n"
     ]
    },
    {
     "name": "stderr",
     "output_type": "stream",
     "text": [
      "100%|███████████████████████████████████████| 411/411 [00:01<00:00, 366.75it/s]\n",
      "100%|███████████████████████████████████████| 137/137 [00:00<00:00, 922.44it/s]\n",
      "  9%|███▊                                    | 39/411 [00:00<00:00, 389.95it/s]"
     ]
    },
    {
     "name": "stdout",
     "output_type": "stream",
     "text": [
      "Loss = 0.16116825481396693 | Training Accuracy = 0.9657904761904762 | Val Loss = 0.40631859368186 | Val Accuracy = 0.9441714285714286\n",
      "Epoch 35\n"
     ]
    },
    {
     "name": "stderr",
     "output_type": "stream",
     "text": [
      "100%|███████████████████████████████████████| 411/411 [00:01<00:00, 369.23it/s]\n",
      "100%|██████████████████████████████████████| 137/137 [00:00<00:00, 1239.66it/s]\n",
      "  9%|███▋                                    | 38/411 [00:00<00:00, 374.34it/s]"
     ]
    },
    {
     "name": "stdout",
     "output_type": "stream",
     "text": [
      "Loss = 0.15920829253102253 | Training Accuracy = 0.9671428571428572 | Val Loss = 0.3824039750338884 | Val Accuracy = 0.9445714285714286\n",
      "Epoch 36\n"
     ]
    },
    {
     "name": "stderr",
     "output_type": "stream",
     "text": [
      "100%|███████████████████████████████████████| 411/411 [00:01<00:00, 340.19it/s]\n",
      "100%|███████████████████████████████████████| 137/137 [00:00<00:00, 954.58it/s]\n",
      "  7%|██▋                                     | 27/411 [00:00<00:01, 230.74it/s]"
     ]
    },
    {
     "name": "stdout",
     "output_type": "stream",
     "text": [
      "Loss = 0.15712187899621058 | Training Accuracy = 0.9684761904761905 | Val Loss = 0.422245801895436 | Val Accuracy = 0.9455428571428571\n",
      "Epoch 37\n"
     ]
    },
    {
     "name": "stderr",
     "output_type": "stream",
     "text": [
      "100%|███████████████████████████████████████| 411/411 [00:01<00:00, 340.75it/s]\n",
      "100%|███████████████████████████████████████| 137/137 [00:00<00:00, 284.20it/s]\n",
      "  9%|███▋                                    | 38/411 [00:00<00:00, 378.06it/s]"
     ]
    },
    {
     "name": "stdout",
     "output_type": "stream",
     "text": [
      "Loss = 0.1560781819102494 | Training Accuracy = 0.968247619047619 | Val Loss = 0.43854789952964346 | Val Accuracy = 0.9456\n",
      "Epoch 38\n"
     ]
    },
    {
     "name": "stderr",
     "output_type": "stream",
     "text": [
      "100%|███████████████████████████████████████| 411/411 [00:01<00:00, 298.22it/s]\n",
      "100%|███████████████████████████████████████| 137/137 [00:00<00:00, 840.38it/s]\n",
      " 10%|███▉                                    | 40/411 [00:00<00:00, 395.99it/s]"
     ]
    },
    {
     "name": "stdout",
     "output_type": "stream",
     "text": [
      "Loss = 0.1545890534654993 | Training Accuracy = 0.9668952380952381 | Val Loss = 0.4105467376955189 | Val Accuracy = 0.9449714285714286\n",
      "Epoch 39\n"
     ]
    },
    {
     "name": "stderr",
     "output_type": "stream",
     "text": [
      "100%|███████████████████████████████████████| 411/411 [00:01<00:00, 361.11it/s]\n",
      "100%|██████████████████████████████████████| 137/137 [00:00<00:00, 1250.98it/s]\n",
      "  8%|███                                     | 31/411 [00:00<00:01, 293.80it/s]"
     ]
    },
    {
     "name": "stdout",
     "output_type": "stream",
     "text": [
      "Loss = 0.15187805031593732 | Training Accuracy = 0.9659809523809524 | Val Loss = 0.41935938300525216 | Val Accuracy = 0.9441714285714286\n",
      "Epoch 40\n"
     ]
    },
    {
     "name": "stderr",
     "output_type": "stream",
     "text": [
      "100%|███████████████████████████████████████| 411/411 [00:01<00:00, 264.87it/s]\n",
      "100%|██████████████████████████████████████| 137/137 [00:00<00:00, 1223.06it/s]\n",
      "  7%|██▋                                     | 27/411 [00:00<00:01, 267.29it/s]"
     ]
    },
    {
     "name": "stdout",
     "output_type": "stream",
     "text": [
      "Loss = 0.14997967387282476 | Training Accuracy = 0.9681904761904762 | Val Loss = 0.37575674720383706 | Val Accuracy = 0.9457714285714286\n",
      "Epoch 41\n"
     ]
    },
    {
     "name": "stderr",
     "output_type": "stream",
     "text": [
      "100%|███████████████████████████████████████| 411/411 [00:01<00:00, 250.20it/s]\n",
      "100%|███████████████████████████████████████| 137/137 [00:00<00:00, 925.56it/s]\n",
      "  5%|██▏                                     | 22/411 [00:00<00:01, 216.72it/s]"
     ]
    },
    {
     "name": "stdout",
     "output_type": "stream",
     "text": [
      "Loss = 0.14895923220097668 | Training Accuracy = 0.9670285714285715 | Val Loss = 0.37486352488217506 | Val Accuracy = 0.9446285714285715\n",
      "Epoch 42\n"
     ]
    },
    {
     "name": "stderr",
     "output_type": "stream",
     "text": [
      "100%|███████████████████████████████████████| 411/411 [00:01<00:00, 273.87it/s]\n",
      "100%|███████████████████████████████████████| 137/137 [00:00<00:00, 738.45it/s]\n",
      "  4%|█▋                                      | 17/411 [00:00<00:02, 168.30it/s]"
     ]
    },
    {
     "name": "stdout",
     "output_type": "stream",
     "text": [
      "Loss = 0.14795634789626022 | Training Accuracy = 0.9689142857142857 | Val Loss = 0.37934763579234915 | Val Accuracy = 0.9462857142857143\n",
      "Epoch 43\n"
     ]
    },
    {
     "name": "stderr",
     "output_type": "stream",
     "text": [
      "100%|███████████████████████████████████████| 411/411 [00:02<00:00, 153.31it/s]\n",
      "100%|███████████████████████████████████████| 137/137 [00:00<00:00, 773.91it/s]\n",
      "  9%|███▋                                    | 38/411 [00:00<00:00, 374.34it/s]"
     ]
    },
    {
     "name": "stdout",
     "output_type": "stream",
     "text": [
      "Loss = 0.14548045175695584 | Training Accuracy = 0.9686476190476191 | Val Loss = 0.3141782489116172 | Val Accuracy = 0.9456\n",
      "Epoch 44\n"
     ]
    },
    {
     "name": "stderr",
     "output_type": "stream",
     "text": [
      "100%|███████████████████████████████████████| 411/411 [00:01<00:00, 331.68it/s]\n",
      "100%|██████████████████████████████████████| 137/137 [00:00<00:00, 1239.66it/s]\n",
      "  9%|███▋                                    | 38/411 [00:00<00:00, 378.06it/s]"
     ]
    },
    {
     "name": "stdout",
     "output_type": "stream",
     "text": [
      "Loss = 0.1447049866868195 | Training Accuracy = 0.9692952380952381 | Val Loss = 0.3422168444810018 | Val Accuracy = 0.9461142857142857\n",
      "Epoch 45\n"
     ]
    },
    {
     "name": "stderr",
     "output_type": "stream",
     "text": [
      "100%|███████████████████████████████████████| 411/411 [00:01<00:00, 240.04it/s]\n",
      "100%|███████████████████████████████████████| 137/137 [00:00<00:00, 679.81it/s]\n",
      "  7%|██▉                                     | 30/411 [00:00<00:01, 246.88it/s]"
     ]
    },
    {
     "name": "stdout",
     "output_type": "stream",
     "text": [
      "Loss = 0.14323264565106322 | Training Accuracy = 0.9705142857142857 | Val Loss = 0.3366633661314584 | Val Accuracy = 0.9468571428571428\n",
      "Epoch 46\n"
     ]
    },
    {
     "name": "stderr",
     "output_type": "stream",
     "text": [
      "100%|███████████████████████████████████████| 411/411 [00:01<00:00, 331.94it/s]\n",
      "100%|███████████████████████████████████████| 137/137 [00:00<00:00, 837.81it/s]\n",
      " 10%|███▉                                    | 40/411 [00:00<00:00, 397.96it/s]"
     ]
    },
    {
     "name": "stdout",
     "output_type": "stream",
     "text": [
      "Loss = 0.14258027090444067 | Training Accuracy = 0.9716761904761905 | Val Loss = 0.2818202355098435 | Val Accuracy = 0.9482857142857143\n",
      "Epoch 47\n"
     ]
    },
    {
     "name": "stderr",
     "output_type": "stream",
     "text": [
      "100%|███████████████████████████████████████| 411/411 [00:01<00:00, 233.16it/s]\n",
      "100%|███████████████████████████████████████| 137/137 [00:00<00:00, 483.18it/s]\n",
      "  9%|███▌                                    | 37/411 [00:00<00:01, 273.03it/s]"
     ]
    },
    {
     "name": "stdout",
     "output_type": "stream",
     "text": [
      "Loss = 0.13976027368076827 | Training Accuracy = 0.9729904761904762 | Val Loss = 0.3244981700138178 | Val Accuracy = 0.9472\n",
      "Epoch 48\n"
     ]
    },
    {
     "name": "stderr",
     "output_type": "stream",
     "text": [
      "100%|███████████████████████████████████████| 411/411 [00:01<00:00, 347.52it/s]\n",
      "100%|██████████████████████████████████████| 137/137 [00:00<00:00, 1014.69it/s]\n",
      " 10%|███▉                                    | 41/411 [00:00<00:00, 401.91it/s]"
     ]
    },
    {
     "name": "stdout",
     "output_type": "stream",
     "text": [
      "Loss = 0.13941066042047448 | Training Accuracy = 0.9715238095238096 | Val Loss = 0.3419581576179242 | Val Accuracy = 0.9465142857142858\n",
      "Epoch 49\n"
     ]
    },
    {
     "name": "stderr",
     "output_type": "stream",
     "text": [
      "100%|███████████████████████████████████████| 411/411 [00:01<00:00, 396.86it/s]\n",
      "100%|███████████████████████████████████████| 137/137 [00:00<00:00, 845.57it/s]\n",
      "  6%|██▌                                     | 26/411 [00:00<00:01, 258.67it/s]"
     ]
    },
    {
     "name": "stdout",
     "output_type": "stream",
     "text": [
      "Loss = 0.13872274844970992 | Training Accuracy = 0.9747619047619047 | Val Loss = 0.30059344946465666 | Val Accuracy = 0.9490857142857143\n",
      "Epoch 50\n"
     ]
    },
    {
     "name": "stderr",
     "output_type": "stream",
     "text": [
      "100%|███████████████████████████████████████| 411/411 [00:01<00:00, 233.43it/s]\n",
      "100%|██████████████████████████████████████| 137/137 [00:00<00:00, 1239.66it/s]\n",
      "  7%|██▊                                     | 29/411 [00:00<00:01, 244.70it/s]"
     ]
    },
    {
     "name": "stdout",
     "output_type": "stream",
     "text": [
      "Loss = 0.1360431143040704 | Training Accuracy = 0.9734285714285714 | Val Loss = 0.28103509267111565 | Val Accuracy = 0.9476571428571429\n",
      "Epoch 51\n"
     ]
    },
    {
     "name": "stderr",
     "output_type": "stream",
     "text": [
      "100%|███████████████████████████████████████| 411/411 [00:01<00:00, 290.22it/s]\n",
      "100%|██████████████████████████████████████| 137/137 [00:00<00:00, 1206.90it/s]\n",
      "  6%|██▏                                     | 23/411 [00:00<00:02, 174.88it/s]"
     ]
    },
    {
     "name": "stdout",
     "output_type": "stream",
     "text": [
      "Loss = 0.1374645509443257 | Training Accuracy = 0.9757904761904762 | Val Loss = 0.3286476956644792 | Val Accuracy = 0.9487428571428571\n",
      "Epoch 52\n"
     ]
    },
    {
     "name": "stderr",
     "output_type": "stream",
     "text": [
      "100%|███████████████████████████████████████| 411/411 [00:01<00:00, 323.58it/s]\n",
      "100%|██████████████████████████████████████| 137/137 [00:00<00:00, 1228.54it/s]\n",
      "  7%|██▋                                     | 27/411 [00:00<00:01, 267.29it/s]"
     ]
    },
    {
     "name": "stdout",
     "output_type": "stream",
     "text": [
      "Loss = 0.13652572989863443 | Training Accuracy = 0.974552380952381 | Val Loss = 0.2444585790663298 | Val Accuracy = 0.9489714285714286\n",
      "Epoch 53\n"
     ]
    },
    {
     "name": "stderr",
     "output_type": "stream",
     "text": [
      "100%|███████████████████████████████████████| 411/411 [00:01<00:00, 220.70it/s]\n",
      "100%|██████████████████████████████████████| 137/137 [00:00<00:00, 1217.62it/s]\n",
      " 10%|███▉                                    | 41/411 [00:00<00:00, 407.91it/s]"
     ]
    },
    {
     "name": "stdout",
     "output_type": "stream",
     "text": [
      "Loss = 0.13396586763694668 | Training Accuracy = 0.9756380952380952 | Val Loss = 0.31504027237966237 | Val Accuracy = 0.9497142857142857\n",
      "Epoch 54\n"
     ]
    },
    {
     "name": "stderr",
     "output_type": "stream",
     "text": [
      "100%|███████████████████████████████████████| 411/411 [00:01<00:00, 368.56it/s]\n",
      "100%|███████████████████████████████████████| 137/137 [00:00<00:00, 919.34it/s]\n",
      " 10%|████                                    | 42/411 [00:00<00:00, 411.71it/s]"
     ]
    },
    {
     "name": "stdout",
     "output_type": "stream",
     "text": [
      "Loss = 0.13286292581113915 | Training Accuracy = 0.9766857142857143 | Val Loss = 0.2765758609333227 | Val Accuracy = 0.9483428571428572\n",
      "Epoch 55\n"
     ]
    },
    {
     "name": "stderr",
     "output_type": "stream",
     "text": [
      "100%|███████████████████████████████████████| 411/411 [00:01<00:00, 374.44it/s]\n",
      "100%|██████████████████████████████████████| 137/137 [00:00<00:00, 1228.54it/s]\n",
      " 10%|███▉                                    | 40/411 [00:00<00:00, 399.95it/s]"
     ]
    },
    {
     "name": "stdout",
     "output_type": "stream",
     "text": [
      "Loss = 0.13105219612971497 | Training Accuracy = 0.9758666666666667 | Val Loss = 0.2297561752792385 | Val Accuracy = 0.9472\n",
      "Epoch 56\n"
     ]
    },
    {
     "name": "stderr",
     "output_type": "stream",
     "text": [
      "100%|███████████████████████████████████████| 411/411 [00:01<00:00, 213.65it/s]\n",
      "100%|██████████████████████████████████████| 137/137 [00:00<00:00, 1223.06it/s]\n",
      " 10%|███▉                                    | 41/411 [00:00<00:00, 409.95it/s]"
     ]
    },
    {
     "name": "stdout",
     "output_type": "stream",
     "text": [
      "Loss = 0.13097694424545483 | Training Accuracy = 0.9763047619047619 | Val Loss = 0.20352256411919709 | Val Accuracy = 0.9481714285714286\n",
      "Epoch 57\n"
     ]
    },
    {
     "name": "stderr",
     "output_type": "stream",
     "text": [
      "100%|███████████████████████████████████████| 411/411 [00:01<00:00, 356.73it/s]\n",
      "100%|██████████████████████████████████████| 137/137 [00:00<00:00, 1070.18it/s]\n",
      " 10%|███▉                                    | 40/411 [00:00<00:00, 397.96it/s]"
     ]
    },
    {
     "name": "stdout",
     "output_type": "stream",
     "text": [
      "Loss = 0.12997161093340917 | Training Accuracy = 0.9780761904761904 | Val Loss = 0.22029222056562145 | Val Accuracy = 0.9487428571428571\n",
      "Epoch 58\n"
     ]
    },
    {
     "name": "stderr",
     "output_type": "stream",
     "text": [
      "100%|███████████████████████████████████████| 411/411 [00:01<00:00, 358.59it/s]\n",
      "100%|███████████████████████████████████████| 137/137 [00:00<00:00, 999.87it/s]\n",
      "  0%|                                                  | 0/411 [00:00<?, ?it/s]"
     ]
    },
    {
     "name": "stdout",
     "output_type": "stream",
     "text": [
      "Loss = 0.12953737355659534 | Training Accuracy = 0.9750857142857143 | Val Loss = 0.21181162266540002 | Val Accuracy = 0.9466857142857142\n",
      "Epoch 59\n"
     ]
    },
    {
     "name": "stderr",
     "output_type": "stream",
     "text": [
      "100%|███████████████████████████████████████| 411/411 [00:01<00:00, 237.68it/s]\n",
      "100%|███████████████████████████████████████| 137/137 [00:00<00:00, 709.75it/s]\n",
      "  9%|███▌                                    | 36/411 [00:00<00:01, 330.23it/s]"
     ]
    },
    {
     "name": "stdout",
     "output_type": "stream",
     "text": [
      "Loss = 0.12720121968373363 | Training Accuracy = 0.9791238095238095 | Val Loss = 0.20834617444043857 | Val Accuracy = 0.9490857142857143\n",
      "Epoch 60\n"
     ]
    },
    {
     "name": "stderr",
     "output_type": "stream",
     "text": [
      "100%|███████████████████████████████████████| 411/411 [00:01<00:00, 310.62it/s]\n",
      "100%|███████████████████████████████████████| 137/137 [00:00<00:00, 974.96it/s]\n",
      " 10%|████                                    | 42/411 [00:00<00:00, 411.71it/s]"
     ]
    },
    {
     "name": "stdout",
     "output_type": "stream",
     "text": [
      "Loss = 0.1278270286594782 | Training Accuracy = 0.9789523809523809 | Val Loss = 0.21556849752139232 | Val Accuracy = 0.9491428571428572\n",
      "Epoch 61\n"
     ]
    },
    {
     "name": "stderr",
     "output_type": "stream",
     "text": [
      "100%|███████████████████████████████████████| 411/411 [00:01<00:00, 337.12it/s]\n",
      "100%|██████████████████████████████████████| 137/137 [00:00<00:00, 1155.97it/s]\n",
      "  3%|█▎                                      | 13/411 [00:00<00:03, 129.34it/s]"
     ]
    },
    {
     "name": "stdout",
     "output_type": "stream",
     "text": [
      "Loss = 0.12754153867851875 | Training Accuracy = 0.9769523809523809 | Val Loss = 0.13759222918116767 | Val Accuracy = 0.9477714285714286\n",
      "Epoch 62\n"
     ]
    },
    {
     "name": "stderr",
     "output_type": "stream",
     "text": [
      "100%|███████████████████████████████████████| 411/411 [00:01<00:00, 323.96it/s]\n",
      "100%|██████████████████████████████████████| 137/137 [00:00<00:00, 1109.17it/s]\n",
      " 10%|████▏                                   | 43/411 [00:00<00:00, 423.59it/s]"
     ]
    },
    {
     "name": "stdout",
     "output_type": "stream",
     "text": [
      "Loss = 0.1268605043367632 | Training Accuracy = 0.9795238095238096 | Val Loss = 0.1904704780759837 | Val Accuracy = 0.9477142857142857\n",
      "Epoch 63\n"
     ]
    },
    {
     "name": "stderr",
     "output_type": "stream",
     "text": [
      "100%|███████████████████████████████████████| 411/411 [00:01<00:00, 390.82it/s]\n",
      "100%|██████████████████████████████████████| 137/137 [00:00<00:00, 1201.60it/s]\n",
      "  9%|███▌                                    | 37/411 [00:00<00:01, 364.49it/s]"
     ]
    },
    {
     "name": "stdout",
     "output_type": "stream",
     "text": [
      "Loss = 0.1246823396328008 | Training Accuracy = 0.9764380952380952 | Val Loss = 0.2211659688853411 | Val Accuracy = 0.9464\n",
      "Epoch 64\n"
     ]
    },
    {
     "name": "stderr",
     "output_type": "stream",
     "text": [
      "100%|███████████████████████████████████████| 411/411 [00:01<00:00, 386.96it/s]\n",
      "100%|███████████████████████████████████████| 137/137 [00:00<00:00, 964.67it/s]\n",
      "  9%|███▌                                    | 37/411 [00:00<00:01, 276.08it/s]"
     ]
    },
    {
     "name": "stdout",
     "output_type": "stream",
     "text": [
      "Loss = 0.12440340008434853 | Training Accuracy = 0.9815047619047619 | Val Loss = 0.21304159186608987 | Val Accuracy = 0.9476571428571429\n",
      "Epoch 65\n"
     ]
    },
    {
     "name": "stderr",
     "output_type": "stream",
     "text": [
      "100%|███████████████████████████████████████| 411/411 [00:01<00:00, 391.57it/s]\n",
      "100%|███████████████████████████████████████| 137/137 [00:00<00:00, 919.35it/s]\n",
      " 10%|████                                    | 42/411 [00:00<00:00, 415.79it/s]"
     ]
    },
    {
     "name": "stdout",
     "output_type": "stream",
     "text": [
      "Loss = 0.12252039439509045 | Training Accuracy = 0.9791428571428571 | Val Loss = 0.15751721628380858 | Val Accuracy = 0.9474857142857143\n",
      "Epoch 66\n"
     ]
    },
    {
     "name": "stderr",
     "output_type": "stream",
     "text": [
      "100%|███████████████████████████████████████| 411/411 [00:01<00:00, 388.79it/s]\n",
      "100%|██████████████████████████████████████| 137/137 [00:00<00:00, 1136.78it/s]\n",
      " 10%|████                                    | 42/411 [00:00<00:00, 415.79it/s]"
     ]
    },
    {
     "name": "stdout",
     "output_type": "stream",
     "text": [
      "Loss = 0.12101143532270336 | Training Accuracy = 0.9775809523809523 | Val Loss = 0.14554128840221248 | Val Accuracy = 0.9473714285714285\n",
      "Epoch 67\n"
     ]
    },
    {
     "name": "stderr",
     "output_type": "stream",
     "text": [
      "100%|███████████████████████████████████████| 411/411 [00:01<00:00, 385.87it/s]\n",
      "100%|███████████████████████████████████████| 137/137 [00:00<00:00, 805.78it/s]\n",
      " 10%|████▏                                   | 43/411 [00:00<00:00, 421.52it/s]"
     ]
    },
    {
     "name": "stdout",
     "output_type": "stream",
     "text": [
      "Loss = 0.12051427097890513 | Training Accuracy = 0.9793904761904761 | Val Loss = 0.12966241414215682 | Val Accuracy = 0.948\n",
      "Epoch 68\n"
     ]
    },
    {
     "name": "stderr",
     "output_type": "stream",
     "text": [
      "100%|███████████████████████████████████████| 411/411 [00:01<00:00, 250.65it/s]\n",
      "100%|███████████████████████████████████████| 137/137 [00:00<00:00, 916.27it/s]\n",
      " 10%|███▉                                    | 41/411 [00:00<00:00, 403.89it/s]"
     ]
    },
    {
     "name": "stdout",
     "output_type": "stream",
     "text": [
      "Loss = 0.11914094165056399 | Training Accuracy = 0.9792190476190477 | Val Loss = 0.14861689242969467 | Val Accuracy = 0.9490285714285714\n",
      "Epoch 69\n"
     ]
    },
    {
     "name": "stderr",
     "output_type": "stream",
     "text": [
      "100%|███████████████████████████████████████| 411/411 [00:01<00:00, 383.88it/s]\n",
      "100%|██████████████████████████████████████| 137/137 [00:00<00:00, 1201.61it/s]\n",
      " 10%|███▉                                    | 41/411 [00:00<00:01, 311.75it/s]"
     ]
    },
    {
     "name": "stdout",
     "output_type": "stream",
     "text": [
      "Loss = 0.11856135329335153 | Training Accuracy = 0.9810476190476191 | Val Loss = 0.1260266947671004 | Val Accuracy = 0.9492\n",
      "Epoch 70\n"
     ]
    },
    {
     "name": "stderr",
     "output_type": "stream",
     "text": [
      "100%|███████████████████████████████████████| 411/411 [00:01<00:00, 390.08it/s]\n",
      "100%|███████████████████████████████████████| 137/137 [00:00<00:00, 892.39it/s]\n",
      " 10%|████                                    | 42/411 [00:00<00:00, 413.74it/s]"
     ]
    },
    {
     "name": "stdout",
     "output_type": "stream",
     "text": [
      "Loss = 0.11653478533318407 | Training Accuracy = 0.9791238095238095 | Val Loss = 0.15479188932472387 | Val Accuracy = 0.9455428571428571\n",
      "Epoch 71\n"
     ]
    },
    {
     "name": "stderr",
     "output_type": "stream",
     "text": [
      "100%|███████████████████████████████████████| 411/411 [00:01<00:00, 247.26it/s]\n",
      "100%|██████████████████████████████████████| 137/137 [00:00<00:00, 1191.15it/s]\n",
      " 10%|████                                    | 42/411 [00:00<00:00, 417.86it/s]"
     ]
    },
    {
     "name": "stdout",
     "output_type": "stream",
     "text": [
      "Loss = 0.11830193723069947 | Training Accuracy = 0.9804 | Val Loss = 0.1310172981830084 | Val Accuracy = 0.9482857142857143\n",
      "Epoch 72\n"
     ]
    },
    {
     "name": "stderr",
     "output_type": "stream",
     "text": [
      "100%|███████████████████████████████████████| 411/411 [00:01<00:00, 379.98it/s]\n",
      "100%|██████████████████████████████████████| 137/137 [00:00<00:00, 1104.70it/s]\n",
      "  9%|███▌                                    | 36/411 [00:00<00:01, 354.63it/s]"
     ]
    },
    {
     "name": "stdout",
     "output_type": "stream",
     "text": [
      "Loss = 0.11606839432301726 | Training Accuracy = 0.9789142857142857 | Val Loss = 0.1628681827561412 | Val Accuracy = 0.9452571428571429\n",
      "Epoch 73\n"
     ]
    },
    {
     "name": "stderr",
     "output_type": "stream",
     "text": [
      "100%|███████████████████████████████████████| 411/411 [00:01<00:00, 341.32it/s]\n",
      "100%|██████████████████████████████████████| 137/137 [00:00<00:00, 1136.78it/s]\n",
      " 10%|███▉                                    | 40/411 [00:00<00:00, 386.42it/s]"
     ]
    },
    {
     "name": "stdout",
     "output_type": "stream",
     "text": [
      "Loss = 0.11705276321887784 | Training Accuracy = 0.9809142857142857 | Val Loss = 0.1417820004288707 | Val Accuracy = 0.9464571428571429\n",
      "Epoch 74\n"
     ]
    },
    {
     "name": "stderr",
     "output_type": "stream",
     "text": [
      "100%|███████████████████████████████████████| 411/411 [00:01<00:00, 210.90it/s]\n",
      "100%|██████████████████████████████████████| 137/137 [00:00<00:00, 1160.87it/s]\n",
      " 10%|███▉                                    | 41/411 [00:00<00:00, 407.91it/s]"
     ]
    },
    {
     "name": "stdout",
     "output_type": "stream",
     "text": [
      "Loss = 0.11572052929751848 | Training Accuracy = 0.9811428571428571 | Val Loss = 0.11603405458087405 | Val Accuracy = 0.9485714285714286\n",
      "Epoch 75\n"
     ]
    },
    {
     "name": "stderr",
     "output_type": "stream",
     "text": [
      "100%|███████████████████████████████████████| 411/411 [00:01<00:00, 379.80it/s]\n",
      "100%|███████████████████████████████████████| 137/137 [00:00<00:00, 928.70it/s]\n",
      " 10%|████▏                                   | 43/411 [00:00<00:00, 427.81it/s]"
     ]
    },
    {
     "name": "stdout",
     "output_type": "stream",
     "text": [
      "Loss = 0.11480191880238723 | Training Accuracy = 0.9807428571428571 | Val Loss = 0.13202006400742758 | Val Accuracy = 0.9477142857142857\n",
      "Epoch 76\n"
     ]
    },
    {
     "name": "stderr",
     "output_type": "stream",
     "text": [
      "100%|███████████████████████████████████████| 411/411 [00:01<00:00, 402.89it/s]\n",
      "100%|██████████████████████████████████████| 137/137 [00:00<00:00, 1349.59it/s]\n",
      " 10%|████▏                                   | 43/411 [00:00<00:00, 429.95it/s]"
     ]
    },
    {
     "name": "stdout",
     "output_type": "stream",
     "text": [
      "Loss = 0.11456538080377134 | Training Accuracy = 0.9823619047619048 | Val Loss = 0.11154817068383016 | Val Accuracy = 0.9487428571428571\n",
      "Epoch 77\n"
     ]
    },
    {
     "name": "stderr",
     "output_type": "stream",
     "text": [
      "100%|███████████████████████████████████████| 411/411 [00:01<00:00, 237.75it/s]\n",
      "100%|███████████████████████████████████████| 137/137 [00:00<00:00, 707.92it/s]\n",
      " 10%|████                                    | 42/411 [00:00<00:00, 415.79it/s]"
     ]
    },
    {
     "name": "stdout",
     "output_type": "stream",
     "text": [
      "Loss = 0.11072007769146304 | Training Accuracy = 0.9830476190476191 | Val Loss = 0.11035818129096109 | Val Accuracy = 0.9484571428571429\n",
      "Epoch 78\n"
     ]
    },
    {
     "name": "stderr",
     "output_type": "stream",
     "text": [
      "100%|███████████████████████████████████████| 411/411 [00:01<00:00, 401.12it/s]\n",
      "100%|██████████████████████████████████████| 137/137 [00:00<00:00, 1349.59it/s]\n",
      "  7%|██▋                                     | 28/411 [00:00<00:01, 277.19it/s]"
     ]
    },
    {
     "name": "stdout",
     "output_type": "stream",
     "text": [
      "Loss = 0.11245682235709657 | Training Accuracy = 0.9816 | Val Loss = 0.16723541451057136 | Val Accuracy = 0.9483428571428572\n",
      "Epoch 79\n"
     ]
    },
    {
     "name": "stderr",
     "output_type": "stream",
     "text": [
      "100%|███████████████████████████████████████| 411/411 [00:01<00:00, 333.83it/s]\n",
      "100%|██████████████████████████████████████| 137/137 [00:00<00:00, 1201.60it/s]\n",
      "  0%|                                                  | 0/411 [00:00<?, ?it/s]"
     ]
    },
    {
     "name": "stdout",
     "output_type": "stream",
     "text": [
      "Loss = 0.11082511076307076 | Training Accuracy = 0.9841333333333333 | Val Loss = 0.10893913150512968 | Val Accuracy = 0.9494857142857143\n",
      "Epoch 80\n"
     ]
    },
    {
     "name": "stderr",
     "output_type": "stream",
     "text": [
      "100%|███████████████████████████████████████| 411/411 [00:01<00:00, 229.20it/s]\n",
      "100%|██████████████████████████████████████| 137/137 [00:00<00:00, 1356.26it/s]\n",
      " 10%|███▉                                    | 41/411 [00:00<00:00, 403.89it/s]"
     ]
    },
    {
     "name": "stdout",
     "output_type": "stream",
     "text": [
      "Loss = 0.10856269226094785 | Training Accuracy = 0.9813142857142857 | Val Loss = 0.13537882559546335 | Val Accuracy = 0.948\n",
      "Epoch 81\n"
     ]
    },
    {
     "name": "stderr",
     "output_type": "stream",
     "text": [
      "100%|███████████████████████████████████████| 411/411 [00:01<00:00, 396.48it/s]\n",
      "100%|███████████████████████████████████████| 137/137 [00:00<00:00, 880.92it/s]\n",
      "  7%|██▋                                     | 27/411 [00:00<00:01, 269.97it/s]"
     ]
    },
    {
     "name": "stdout",
     "output_type": "stream",
     "text": [
      "Loss = 0.10749883461761169 | Training Accuracy = 0.9827047619047619 | Val Loss = 0.12500530496207127 | Val Accuracy = 0.9487428571428571\n",
      "Epoch 82\n"
     ]
    },
    {
     "name": "stderr",
     "output_type": "stream",
     "text": [
      "100%|███████████████████████████████████████| 411/411 [00:01<00:00, 361.27it/s]\n",
      "100%|██████████████████████████████████████| 137/137 [00:00<00:00, 1014.69it/s]\n",
      " 10%|███▉                                    | 40/411 [00:00<00:00, 395.99it/s]"
     ]
    },
    {
     "name": "stdout",
     "output_type": "stream",
     "text": [
      "Loss = 0.10738944410151849 | Training Accuracy = 0.9840190476190476 | Val Loss = 0.11149890866653867 | Val Accuracy = 0.9492\n",
      "Epoch 83\n"
     ]
    },
    {
     "name": "stderr",
     "output_type": "stream",
     "text": [
      "100%|███████████████████████████████████████| 411/411 [00:01<00:00, 276.36it/s]\n",
      "100%|██████████████████████████████████████| 137/137 [00:00<00:00, 1206.89it/s]\n",
      "  9%|███▌                                    | 36/411 [00:00<00:01, 359.95it/s]"
     ]
    },
    {
     "name": "stdout",
     "output_type": "stream",
     "text": [
      "Loss = 0.10785881650271154 | Training Accuracy = 0.9841333333333333 | Val Loss = 0.10057270750195714 | Val Accuracy = 0.9493142857142857\n",
      "Epoch 84\n"
     ]
    },
    {
     "name": "stderr",
     "output_type": "stream",
     "text": [
      "100%|███████████████████████████████████████| 411/411 [00:01<00:00, 368.56it/s]\n",
      "100%|██████████████████████████████████████| 137/137 [00:00<00:00, 1383.66it/s]\n",
      " 10%|████                                    | 42/411 [00:00<00:00, 413.74it/s]"
     ]
    },
    {
     "name": "stdout",
     "output_type": "stream",
     "text": [
      "Loss = 0.10411940948309656 | Training Accuracy = 0.9834285714285714 | Val Loss = 0.11456238803394915 | Val Accuracy = 0.9494857142857143\n",
      "Epoch 85\n"
     ]
    },
    {
     "name": "stderr",
     "output_type": "stream",
     "text": [
      "100%|███████████████████████████████████████| 411/411 [00:01<00:00, 287.48it/s]\n",
      "100%|██████████████████████████████████████| 137/137 [00:00<00:00, 1245.30it/s]\n",
      " 10%|███▉                                    | 40/411 [00:00<00:00, 399.95it/s]"
     ]
    },
    {
     "name": "stdout",
     "output_type": "stream",
     "text": [
      "Loss = 0.1032857437332957 | Training Accuracy = 0.9836571428571429 | Val Loss = 0.09509008922254837 | Val Accuracy = 0.9497714285714286\n",
      "Epoch 86\n"
     ]
    },
    {
     "name": "stderr",
     "output_type": "stream",
     "text": [
      "100%|███████████████████████████████████████| 411/411 [00:01<00:00, 294.48it/s]\n",
      "100%|██████████████████████████████████████| 137/137 [00:00<00:00, 1122.81it/s]\n",
      "  8%|███▏                                    | 33/411 [00:00<00:01, 288.17it/s]"
     ]
    },
    {
     "name": "stdout",
     "output_type": "stream",
     "text": [
      "Loss = 0.10091830144917914 | Training Accuracy = 0.9817714285714285 | Val Loss = 0.0962040157310686 | Val Accuracy = 0.9481142857142857\n",
      "Epoch 87\n"
     ]
    },
    {
     "name": "stderr",
     "output_type": "stream",
     "text": [
      "100%|███████████████████████████████████████| 411/411 [00:01<00:00, 395.52it/s]\n",
      "100%|███████████████████████████████████████| 137/137 [00:00<00:00, 944.71it/s]\n",
      " 10%|███▉                                    | 40/411 [00:00<00:00, 399.95it/s]"
     ]
    },
    {
     "name": "stdout",
     "output_type": "stream",
     "text": [
      "Loss = 0.10166007988597138 | Training Accuracy = 0.9804 | Val Loss = 0.10216559379273182 | Val Accuracy = 0.9458285714285715\n",
      "Epoch 88\n"
     ]
    },
    {
     "name": "stderr",
     "output_type": "stream",
     "text": [
      "100%|███████████████████████████████████████| 411/411 [00:01<00:00, 288.99it/s]\n",
      "100%|██████████████████████████████████████| 137/137 [00:00<00:00, 1082.87it/s]\n",
      " 10%|████▏                                   | 43/411 [00:00<00:00, 427.81it/s]"
     ]
    },
    {
     "name": "stdout",
     "output_type": "stream",
     "text": [
      "Loss = 0.10358931776862101 | Training Accuracy = 0.9828761904761905 | Val Loss = 0.1337180378020265 | Val Accuracy = 0.9492\n",
      "Epoch 89\n"
     ]
    },
    {
     "name": "stderr",
     "output_type": "stream",
     "text": [
      "100%|███████████████████████████████████████| 411/411 [00:01<00:00, 304.41it/s]\n",
      "100%|██████████████████████████████████████| 137/137 [00:00<00:00, 1262.51it/s]\n",
      "  8%|███                                     | 32/411 [00:00<00:01, 313.69it/s]"
     ]
    },
    {
     "name": "stdout",
     "output_type": "stream",
     "text": [
      "Loss = 0.10165385258541809 | Training Accuracy = 0.982895238095238 | Val Loss = 0.08494222467713672 | Val Accuracy = 0.9490857142857143\n",
      "Epoch 90\n"
     ]
    },
    {
     "name": "stderr",
     "output_type": "stream",
     "text": [
      "100%|███████████████████████████████████████| 411/411 [00:01<00:00, 376.15it/s]\n",
      "100%|███████████████████████████████████████| 137/137 [00:00<00:00, 992.63it/s]\n",
      "  9%|███▋                                    | 38/411 [00:00<00:00, 376.19it/s]"
     ]
    },
    {
     "name": "stdout",
     "output_type": "stream",
     "text": [
      "Loss = 0.09888761139458123 | Training Accuracy = 0.9837333333333333 | Val Loss = 0.10571217113138867 | Val Accuracy = 0.9489714285714286\n",
      "Epoch 91\n"
     ]
    },
    {
     "name": "stderr",
     "output_type": "stream",
     "text": [
      "100%|███████████████████████████████████████| 411/411 [00:01<00:00, 271.43it/s]\n",
      "100%|██████████████████████████████████████| 137/137 [00:00<00:00, 1369.83it/s]\n",
      " 10%|███▉                                    | 40/411 [00:00<00:00, 394.04it/s]"
     ]
    },
    {
     "name": "stdout",
     "output_type": "stream",
     "text": [
      "Loss = 0.09771912408355383 | Training Accuracy = 0.9852952380952381 | Val Loss = 0.09257116027960781 | Val Accuracy = 0.9499428571428571\n",
      "Epoch 92\n"
     ]
    },
    {
     "name": "stderr",
     "output_type": "stream",
     "text": [
      "100%|███████████████████████████████████████| 411/411 [00:01<00:00, 267.63it/s]\n",
      "100%|███████████████████████████████████████| 137/137 [00:00<00:00, 769.57it/s]\n",
      "  9%|███▊                                    | 39/411 [00:00<00:00, 389.95it/s]"
     ]
    },
    {
     "name": "stdout",
     "output_type": "stream",
     "text": [
      "Loss = 0.09795554843862882 | Training Accuracy = 0.982552380952381 | Val Loss = 0.10403092601747242 | Val Accuracy = 0.9489142857142857\n",
      "Epoch 93\n"
     ]
    },
    {
     "name": "stderr",
     "output_type": "stream",
     "text": [
      "100%|███████████████████████████████████████| 411/411 [00:01<00:00, 374.10it/s]\n",
      "100%|██████████████████████████████████████| 137/137 [00:00<00:00, 1201.60it/s]\n",
      "  7%|██▊                                     | 29/411 [00:00<00:01, 284.28it/s]"
     ]
    },
    {
     "name": "stdout",
     "output_type": "stream",
     "text": [
      "Loss = 0.0994676275152096 | Training Accuracy = 0.9810666666666666 | Val Loss = 0.09640993981053687 | Val Accuracy = 0.9495428571428571\n",
      "Epoch 94\n"
     ]
    },
    {
     "name": "stderr",
     "output_type": "stream",
     "text": [
      "100%|███████████████████████████████████████| 411/411 [00:01<00:00, 320.80it/s]\n",
      "100%|███████████████████████████████████████| 137/137 [00:00<00:00, 875.29it/s]\n",
      "  7%|██▋                                     | 27/411 [00:00<00:01, 269.97it/s]"
     ]
    },
    {
     "name": "stdout",
     "output_type": "stream",
     "text": [
      "Loss = 0.09825424221018639 | Training Accuracy = 0.9827619047619047 | Val Loss = 0.08047524338671622 | Val Accuracy = 0.9490285714285714\n",
      "Epoch 95\n"
     ]
    },
    {
     "name": "stderr",
     "output_type": "stream",
     "text": [
      "100%|███████████████████████████████████████| 411/411 [00:01<00:00, 262.08it/s]\n",
      "100%|██████████████████████████████████████| 137/137 [00:00<00:00, 1217.62it/s]\n",
      " 10%|████▏                                   | 43/411 [00:00<00:00, 425.69it/s]"
     ]
    },
    {
     "name": "stdout",
     "output_type": "stream",
     "text": [
      "Loss = 0.0959229219694544 | Training Accuracy = 0.984 | Val Loss = 0.0965610052586482 | Val Accuracy = 0.9495428571428571\n",
      "Epoch 96\n"
     ]
    },
    {
     "name": "stderr",
     "output_type": "stream",
     "text": [
      "100%|███████████████████████████████████████| 411/411 [00:01<00:00, 386.05it/s]\n",
      "100%|███████████████████████████████████████| 137/137 [00:00<00:00, 285.08it/s]\n",
      "  9%|███▋                                    | 38/411 [00:00<00:00, 376.19it/s]"
     ]
    },
    {
     "name": "stdout",
     "output_type": "stream",
     "text": [
      "Loss = 0.09950017469799938 | Training Accuracy = 0.9855238095238095 | Val Loss = 0.08904063660212622 | Val Accuracy = 0.9508571428571428\n",
      "Epoch 97\n"
     ]
    },
    {
     "name": "stderr",
     "output_type": "stream",
     "text": [
      "100%|███████████████████████████████████████| 411/411 [00:01<00:00, 321.81it/s]\n",
      "100%|██████████████████████████████████████| 137/137 [00:00<00:00, 1109.17it/s]\n",
      "  9%|███▍                                    | 35/411 [00:00<00:01, 297.83it/s]"
     ]
    },
    {
     "name": "stdout",
     "output_type": "stream",
     "text": [
      "Loss = 0.09488443703392384 | Training Accuracy = 0.9878476190476191 | Val Loss = 0.09291389704376296 | Val Accuracy = 0.9517714285714286\n",
      "Epoch 98\n"
     ]
    },
    {
     "name": "stderr",
     "output_type": "stream",
     "text": [
      "100%|███████████████████████████████████████| 411/411 [00:01<00:00, 306.45it/s]\n",
      "100%|███████████████████████████████████████| 137/137 [00:00<00:00, 485.75it/s]\n",
      " 10%|████▏                                   | 43/411 [00:00<00:00, 423.59it/s]"
     ]
    },
    {
     "name": "stdout",
     "output_type": "stream",
     "text": [
      "Loss = 0.09544094777276312 | Training Accuracy = 0.9858095238095238 | Val Loss = 0.08700739569769485 | Val Accuracy = 0.9501714285714286\n",
      "Epoch 99\n"
     ]
    },
    {
     "name": "stderr",
     "output_type": "stream",
     "text": [
      "100%|███████████████████████████████████████| 411/411 [00:01<00:00, 226.98it/s]\n",
      "100%|███████████████████████████████████████| 137/137 [00:00<00:00, 477.29it/s]\n",
      "  8%|███▏                                    | 33/411 [00:00<00:01, 302.71it/s]"
     ]
    },
    {
     "name": "stdout",
     "output_type": "stream",
     "text": [
      "Loss = 0.09411568396485338 | Training Accuracy = 0.9872571428571428 | Val Loss = 0.07842203428735965 | Val Accuracy = 0.9509142857142857\n",
      "Epoch 100\n"
     ]
    },
    {
     "name": "stderr",
     "output_type": "stream",
     "text": [
      "100%|███████████████████████████████████████| 411/411 [00:01<00:00, 295.65it/s]\n",
      "100%|███████████████████████████████████████| 137/137 [00:00<00:00, 981.95it/s]\n"
     ]
    },
    {
     "name": "stdout",
     "output_type": "stream",
     "text": [
      "Loss = 0.09341279400657548 | Training Accuracy = 0.9844571428571428 | Val Loss = 0.08120387188436466 | Val Accuracy = 0.9489714285714286\n"
     ]
    }
   ],
   "source": [
    "print(X_train.shape)\n",
    "print(X_val.shape)\n",
    "\n",
    "\n",
    "# define neural net\n",
    "model = NN()\n",
    "\n",
    "# add some layers\n",
    "model.add_layer(Linear(X.shape[1], 100))\n",
    "model.add_layer(ReLU())\n",
    "model.add_layer(Linear(100, 100))\n",
    "model.add_layer(ReLU())\n",
    "model.add_layer(Linear(100, 10))\n",
    "\n",
    "model = train(model, X_train , y_train, minibatch_size=128, epoch=100,\n",
    "           learning_rate=0.0005, X_val=X_val, y_val=y_val)\n",
    "\n",
    "\n"
   ]
  },
  {
   "cell_type": "code",
   "execution_count": 84,
   "metadata": {},
   "outputs": [
    {
     "data": {
      "image/png": "[encoded data removed]",
      "text/plain": [
       "<Figure size 432x288 with 1 Axes>"
      ]
     },
     "metadata": {
      "needs_background": "light"
     },
     "output_type": "display_data"
    }
   ],
   "source": [
    "# visualize prediction \n",
    "\n",
    "vis_idx = 5\n",
    "pred = model.predict(X_val[vis_idx])\n",
    "#vis(X_val[vis_idx].reshape(-1, 28), y_val[vis_idx])\n",
    "vis(X_val[vis_idx].reshape(-1, 28), pred[0])"
   ]
  },
  {
   "cell_type": "code",
   "execution_count": 85,
   "metadata": {},
   "outputs": [],
   "source": [
    "t = model.layers[0].W.mean(axis=1).reshape(28,28)\n",
    "t -= t.min()\n",
    "t /= t.max()\n",
    "t *= 255\n",
    "t = t.astype(np.int8)"
   ]
  },
  {
   "cell_type": "code",
   "execution_count": 86,
   "metadata": {},
   "outputs": [
    {
     "data": {
      "image/png": "[encoded data removed]",
      "text/plain": [
       "<Figure size 432x288 with 1 Axes>"
      ]
     },
     "metadata": {
      "needs_background": "light"
     },
     "output_type": "display_data"
    }
   ],
   "source": [
    "vis(t, 0)"
   ]
  },
  {
   "cell_type": "code",
   "execution_count": 88,
   "metadata": {},
   "outputs": [
    {
     "data": {
      "text/plain": [
       "<matplotlib.image.AxesImage at 0x27dd45c8>"
      ]
     },
     "execution_count": 88,
     "metadata": {},
     "output_type": "execute_result"
    },
    {
     "data": {
      "image/png": "[encoded data removed]",
      "text/plain": [
       "<Figure size 288x288 with 1 Axes>"
      ]
     },
     "metadata": {
      "needs_background": "light"
     },
     "output_type": "display_data"
    }
   ],
   "source": [
    "plt.matshow(t)"
   ]
  },
  {
   "cell_type": "markdown",
   "metadata": {},
   "source": [
    "# TODO:\n",
    "1) Add computational graph instead of list, model saving/loading, more optimizers, shedulers loss functions, operations, gpu support, utility tools ...\n",
    "\n",
    "... Or simply use Pytorch/TF/whatever"
   ]
  },
  {
   "cell_type": "code",
   "execution_count": null,
   "metadata": {},
   "outputs": [],
   "source": []
  }
 ],
 "metadata": {
  "kernelspec": {
   "display_name": "Python 3",
   "language": "python",
   "name": "python3"
  },
  "language_info": {
   "codemirror_mode": {
    "name": "ipython",
    "version": 3
   },
   "file_extension": ".py",
   "mimetype": "text/x-python",
   "name": "python",
   "nbconvert_exporter": "python",
   "pygments_lexer": "ipython3",
   "version": "3.7.8"
  }
 },
 "nbformat": 4,
 "nbformat_minor": 2
}
